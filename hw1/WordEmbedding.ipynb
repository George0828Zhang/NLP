{
 "cells": [
  {
   "cell_type": "code",
   "execution_count": 1,
   "metadata": {},
   "outputs": [],
   "source": [
    "num_threads = 4\n",
    "embed_name = 'fasttext100d'\n",
    "vocab_name = 'vocab.json'\n",
    "sent2seq_name = 'sent2seq.json'\n",
    "sent2seq_test_name = 'sent2seq_test.json'\n",
    "w2vType = 'Word2Vec'#'FastText' # or Word2Vec\n",
    "min_count = 1\n",
    "n_dim = 100"
   ]
  },
  {
   "cell_type": "code",
   "execution_count": 2,
   "metadata": {},
   "outputs": [],
   "source": [
    "import json\n",
    "from gensim.models import Word2Vec, KeyedVectors, FastText"
   ]
  },
  {
   "cell_type": "code",
   "execution_count": 3,
   "metadata": {},
   "outputs": [],
   "source": [
    "BOS = '<bos>'\n",
    "EOS = '<eos>'\n",
    "PAD = '<pad>'\n",
    "UNK = '<unk>'"
   ]
  },
  {
   "cell_type": "code",
   "execution_count": 4,
   "metadata": {},
   "outputs": [
    {
     "name": "stdout",
     "output_type": "stream",
     "text": [
      "loading vocab.json\n",
      "done\n",
      "loading sent2seq.json\n",
      "done\n",
      "done\n"
     ]
    }
   ],
   "source": [
    "##### Data Loader\n",
    "print('loading ' + vocab_name)\n",
    "vocab = json.load(open(vocab_name, 'r', encoding='utf-8'))\n",
    "vocab_inv = {ind:word for word, ind in vocab.items()}\n",
    "print('done')\n",
    "\n",
    "print('loading ' + sent2seq_name)\n",
    "Sent2Seq = json.load(open(sent2seq_name, 'r'))\n",
    "Sent2Seq_test = json.load(open(sent2seq_test_name, 'r'))\n",
    "print('done')\n",
    "\n",
    "iBOS = vocab[BOS]\n",
    "iPAD = vocab[PAD]\n",
    "iEOS = vocab[EOS]\n",
    "\n",
    "sentences = []\n",
    "for sid, seq in Sent2Seq.items():\n",
    "    sent = [BOS] + [vocab_inv[wid] for wid in seq] + [EOS, PAD, PAD]\n",
    "    sentences.append(sent)\n",
    "for sid, seq in Sent2Seq_test.items():\n",
    "    sent = [BOS] + [vocab_inv[wid] for wid in seq] + [EOS, PAD, PAD]\n",
    "    sentences.append(sent)\n",
    "\n",
    "print('done')"
   ]
  },
  {
   "cell_type": "code",
   "execution_count": 5,
   "metadata": {},
   "outputs": [
    {
     "data": {
      "text/plain": [
       "(14458973, 19306885)"
      ]
     },
     "execution_count": 5,
     "metadata": {},
     "output_type": "execute_result"
    }
   ],
   "source": [
    "if w2vType == 'FastText':\n",
    "    model = FastText(size=n_dim, window=5, min_count=min_count, workers=num_threads)\n",
    "else:\n",
    "    model = Word2Vec(size=n_dim, window=5, min_count=min_count, workers=num_threads)\n",
    "\n",
    "model.build_vocab(sentences)\n",
    "total_examples = model.corpus_count\n",
    "model.train(sentences, total_examples=total_examples, epochs=5)"
   ]
  },
  {
   "cell_type": "code",
   "execution_count": 6,
   "metadata": {},
   "outputs": [
    {
     "name": "stdout",
     "output_type": "stream",
     "text": [
      "怎么\n",
      "[('如何', 0.7661803364753723), ('怎样', 0.7399766445159912), ('咋', 0.6407647132873535), ('怎么样', 0.6340466737747192), ('有没有', 0.60993891954422), ('正缘', 0.5764929056167603), ('是不是', 0.5703044533729553), ('过来', 0.5687381625175476), ('砀山县', 0.5649325251579285), ('花言巧语', 0.5643908977508545)]\n"
     ]
    }
   ],
   "source": [
    "word = vocab_inv[64]\n",
    "print(word)\n",
    "print(model.wv.similar_by_word(word))"
   ]
  },
  {
   "cell_type": "code",
   "execution_count": 7,
   "metadata": {},
   "outputs": [],
   "source": [
    "model.wv.save(embed_name)"
   ]
  },
  {
   "cell_type": "code",
   "execution_count": 10,
   "metadata": {},
   "outputs": [
    {
     "name": "stdout",
     "output_type": "stream",
     "text": [
      "done\n"
     ]
    }
   ],
   "source": [
    "import numpy as np\n",
    "embed_model = model.wv\n",
    "VOCAB_SZ = len(embed_model.vocab)\n",
    "vocab = {'<unk>':VOCAB_SZ}\n",
    "\n",
    "def l2_normd_np(a):\n",
    "    b = np.linalg.norm(a)\n",
    "    return 0*a if b == 0 else a / b\n",
    "\n",
    "wv_matrix = (np.random.rand(VOCAB_SZ, n_dim) - 0.5) / 5.0\n",
    "for wid in range(VOCAB_SZ):\n",
    "    word = embed_model.index2word[wid]\n",
    "    vec = embed_model[word]\n",
    "    wv_matrix[wid] = l2_normd_np(vec)\n",
    "    vocab[word] = wid\n",
    "\n",
    "np.save(\"wv_matrix\", wv_matrix)\n",
    "print('done')"
   ]
  },
  {
   "cell_type": "code",
   "execution_count": null,
   "metadata": {},
   "outputs": [],
   "source": []
  }
 ],
 "metadata": {
  "kernelspec": {
   "display_name": "Python 3",
   "language": "python",
   "name": "python3"
  },
  "language_info": {
   "codemirror_mode": {
    "name": "ipython",
    "version": 3
   },
   "file_extension": ".py",
   "mimetype": "text/x-python",
   "name": "python",
   "nbconvert_exporter": "python",
   "pygments_lexer": "ipython3",
   "version": "3.6.0"
  }
 },
 "nbformat": 4,
 "nbformat_minor": 2
}
