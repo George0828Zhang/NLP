{
 "cells": [
  {
   "cell_type": "markdown",
   "metadata": {},
   "source": [
    "# Word Embedding"
   ]
  },
  {
   "cell_type": "markdown",
   "metadata": {},
   "source": [
    "### Setup\n",
    "- embed_name: the file to store the gensim model. This model is not used currently. A matrix saved is used instead.\n",
    "- vocab_name: the file to read the vocabulary and indices mapping from. This should be one of the output of Preprocessing task.\n",
    "- sent2seq_name: the file to read the indices sequencies. This should be one of the output of Preprocessing task.\n",
    "- w2vType: which type of model to train the vectors. Available options are FastText and Word2Vec.\n",
    "- n_dim: the dimension of the word vectors."
   ]
  },
  {
   "cell_type": "code",
   "execution_count": 1,
   "metadata": {},
   "outputs": [],
   "source": [
    "num_threads = 4\n",
    "embed_name = 'fasttext100d'\n",
    "vocab_name = 'vocab.json'\n",
    "sent2seq_name = 'sent2seq.json'\n",
    "w2vType = 'FastText' # or Word2Vec\n",
    "n_dim = 200"
   ]
  },
  {
   "cell_type": "code",
   "execution_count": 2,
   "metadata": {},
   "outputs": [],
   "source": [
    "import json\n",
    "import numpy as np\n",
    "from gensim.models import Word2Vec, KeyedVectors, FastText"
   ]
  },
  {
   "cell_type": "code",
   "execution_count": 3,
   "metadata": {},
   "outputs": [],
   "source": [
    "BOS = '<bos>'\n",
    "EOS = '<eos>'\n",
    "PAD = '<pad>'\n",
    "UNK = '<unk>'"
   ]
  },
  {
   "cell_type": "markdown",
   "metadata": {},
   "source": [
    "### Sentence Loading\n",
    "This cell loads the sequences from the file and revert them back to words using vocab. This is because gensim models uses words as inputs, not indices."
   ]
  },
  {
   "cell_type": "code",
   "execution_count": 4,
   "metadata": {},
   "outputs": [
    {
     "name": "stdout",
     "output_type": "stream",
     "text": [
      "loading vocab.json\n",
      "done\n",
      "loading sent2seq.json\n",
      "done\n",
      "done\n"
     ]
    }
   ],
   "source": [
    "##### Data Loader\n",
    "print('loading ' + vocab_name)\n",
    "vocab = json.load(open(vocab_name, 'r', encoding='utf-8'))\n",
    "vocab_inv = {ind:word for word, ind in vocab.items()}\n",
    "print('done')\n",
    "\n",
    "print('loading ' + sent2seq_name)\n",
    "Sent2Seq = json.load(open(sent2seq_name, 'r'))\n",
    "# Sent2Seq_test = json.load(open(sent2seq_test_name, 'r'))\n",
    "print('done')\n",
    "\n",
    "iBOS = vocab[BOS]\n",
    "iPAD = vocab[PAD]\n",
    "iEOS = vocab[EOS]\n",
    "\n",
    "sentences = []\n",
    "for sid, seq in Sent2Seq.items():\n",
    "    sent = [BOS] + [vocab_inv[wid] for wid in seq] + [EOS, PAD, PAD]\n",
    "    sentences.append(sent)\n",
    "# for sid, seq in Sent2Seq_test.items():\n",
    "#     sent = [BOS] + [vocab_inv[wid] for wid in seq] + [EOS, PAD, PAD]\n",
    "#     sentences.append(sent)\n",
    "\n",
    "print('done')"
   ]
  },
  {
   "cell_type": "code",
   "execution_count": 5,
   "metadata": {},
   "outputs": [],
   "source": [
    "from gensim.models.callbacks import CallbackAny2Vec\n",
    "class EpochLogger(CallbackAny2Vec):\n",
    "    def __init__(self):\n",
    "        self.epoch = 0\n",
    "    def on_epoch_begin(self, model):\n",
    "        print(\"Epoch #{} start\".format(self.epoch))\n",
    "    def on_epoch_end(self, model):\n",
    "        print(\"Epoch #{} end\".format(self.epoch))\n",
    "        self.epoch += 1"
   ]
  },
  {
   "cell_type": "markdown",
   "metadata": {},
   "source": [
    "### Training embedding\n",
    "this cell trains the model according to the settings above. logger is a callback to notify the progress of trainning."
   ]
  },
  {
   "cell_type": "code",
   "execution_count": 6,
   "metadata": {},
   "outputs": [
    {
     "name": "stdout",
     "output_type": "stream",
     "text": [
      "Epoch #0 start\n",
      "Epoch #0 end\n",
      "Epoch #1 start\n",
      "Epoch #1 end\n",
      "Epoch #2 start\n",
      "Epoch #2 end\n",
      "Epoch #3 start\n",
      "Epoch #3 end\n",
      "Epoch #4 start\n",
      "Epoch #4 end\n",
      "Epoch #5 start\n",
      "Epoch #5 end\n",
      "Epoch #6 start\n",
      "Epoch #6 end\n",
      "Epoch #7 start\n",
      "Epoch #7 end\n",
      "Epoch #8 start\n",
      "Epoch #8 end\n",
      "Epoch #9 start\n",
      "Epoch #9 end\n"
     ]
    }
   ],
   "source": [
    "if w2vType == 'FastText':\n",
    "    model = FastText(size=n_dim, window=5, min_count=1, workers=num_threads)\n",
    "else:\n",
    "    model = Word2Vec(size=n_dim, window=5, min_count=1, workers=num_threads)\n",
    "\n",
    "model.build_vocab(sentences)\n",
    "total_examples = model.corpus_count\n",
    "logger = EpochLogger()\n",
    "model.train(sentences, total_examples=total_examples, epochs=10, callbacks=[logger])"
   ]
  },
  {
   "cell_type": "markdown",
   "metadata": {},
   "source": [
    "### Testing similarity\n",
    "you can change the number in the first line into any number to see other words' neares neighbors."
   ]
  },
  {
   "cell_type": "code",
   "execution_count": 7,
   "metadata": {},
   "outputs": [
    {
     "name": "stdout",
     "output_type": "stream",
     "text": [
      "怎么\n",
      "[('不怎么', 0.9618372321128845), ('怎么着', 0.9509719610214233), ('怎么弄', 0.9488041400909424), ('怎么样', 0.8038607835769653), ('如何', 0.7628289461135864), ('如何治', 0.7588645219802856), ('冬日', 0.7461589574813843), ('如何是好', 0.743143618106842), ('怎样', 0.7319691777229309), ('无论如何', 0.6661348342895508)]\n"
     ]
    }
   ],
   "source": [
    "word = vocab_inv[64]\n",
    "print(word)\n",
    "print(model.wv.similar_by_word(word))"
   ]
  },
  {
   "cell_type": "code",
   "execution_count": 8,
   "metadata": {},
   "outputs": [],
   "source": [
    "model.wv.save(embed_name)"
   ]
  },
  {
   "cell_type": "markdown",
   "metadata": {},
   "source": [
    "### Saving embedding\n",
    "this cell calculates the l2 norm of all embedding vectors and store them in a numpy array file (.npy), which will be loaded when trainning rnn."
   ]
  },
  {
   "cell_type": "code",
   "execution_count": 9,
   "metadata": {},
   "outputs": [
    {
     "name": "stdout",
     "output_type": "stream",
     "text": [
      "done.\n"
     ]
    }
   ],
   "source": [
    "import numpy as np\n",
    "VOCAB_SZ = len(vocab)\n",
    "def l2_normd_np(a):\n",
    "    b = np.linalg.norm(a)\n",
    "    return 0*a if b == 0 else a / b\n",
    "\n",
    "wv_matrix = (np.random.rand(VOCAB_SZ, n_dim) - 0.5) / 5.0\n",
    "for wid in range(VOCAB_SZ):\n",
    "    word = vocab_inv[wid]\n",
    "    vec = model.wv[word]\n",
    "    wv_matrix[wid] = l2_normd_np(vec)\n",
    "\n",
    "np.save(\"wv_matrix\", wv_matrix)\n",
    "print(\"done.\")"
   ]
  },
  {
   "cell_type": "code",
   "execution_count": null,
   "metadata": {},
   "outputs": [],
   "source": []
  }
 ],
 "metadata": {
  "kernelspec": {
   "display_name": "Python 3",
   "language": "python",
   "name": "python3"
  },
  "language_info": {
   "codemirror_mode": {
    "name": "ipython",
    "version": 3
   },
   "file_extension": ".py",
   "mimetype": "text/x-python",
   "name": "python",
   "nbconvert_exporter": "python",
   "pygments_lexer": "ipython3",
   "version": "3.6.0"
  }
 },
 "nbformat": 4,
 "nbformat_minor": 2
}
