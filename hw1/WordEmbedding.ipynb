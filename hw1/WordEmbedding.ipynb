{
 "cells": [
  {
   "cell_type": "code",
   "execution_count": 1,
   "metadata": {},
   "outputs": [],
   "source": [
    "num_threads = 4\n",
    "embed_name = 'fasttext100d'\n",
    "vocab_name = 'vocab.json'\n",
    "sent2seq_name = 'sent2seq.json'\n",
    "sent2seq_test_name = 'sent2seq_test.json'\n",
    "w2vType = 'FastText' # or Word2Vec\n",
    "n_dim = 100"
   ]
  },
  {
   "cell_type": "code",
   "execution_count": 2,
   "metadata": {},
   "outputs": [],
   "source": [
    "import json\n",
    "from gensim.models import Word2Vec, KeyedVectors, FastText"
   ]
  },
  {
   "cell_type": "code",
   "execution_count": 3,
   "metadata": {},
   "outputs": [],
   "source": [
    "BOS = '<bos>'\n",
    "EOS = '<eos>'\n",
    "PAD = '<pad>'\n",
    "UNK = '<unk>'\n",
    "MAX_Q_LEN = 20\n",
    "MAX_A_LEN = 20"
   ]
  },
  {
   "cell_type": "code",
   "execution_count": 4,
   "metadata": {},
   "outputs": [
    {
     "name": "stdout",
     "output_type": "stream",
     "text": [
      "loading vocab.json\n",
      "done\n",
      "loading sent2seq.json\n",
      "done\n",
      "done\n"
     ]
    }
   ],
   "source": [
    "##### Data Loader\n",
    "print('loading ' + vocab_name)\n",
    "vocab = json.load(open(vocab_name, 'r', encoding='utf-8'))\n",
    "vocab_inv = {ind:word for word, ind in vocab.items()}\n",
    "print('done')\n",
    "\n",
    "print('loading ' + sent2seq_name)\n",
    "Sent2Seq = json.load(open(sent2seq_name, 'r'))\n",
    "Sent2Seq_test = json.load(open(sent2seq_test_name, 'r'))\n",
    "print('done')\n",
    "\n",
    "iBOS = vocab[BOS]\n",
    "iPAD = vocab[PAD]\n",
    "iEOS = vocab[EOS]\n",
    "\n",
    "sentences = []\n",
    "for sid, seq in Sent2Seq.items():\n",
    "    sent = [BOS] + [vocab_inv[wid] for wid in seq] + [EOS, PAD, PAD]\n",
    "    sentences.append(sent)\n",
    "for sid, seq in Sent2Seq_test.items():\n",
    "    sent = [BOS] + [vocab_inv[wid] for wid in seq] + [EOS, PAD, PAD]\n",
    "    sentences.append(sent)\n",
    "\n",
    "print('done')"
   ]
  },
  {
   "cell_type": "code",
   "execution_count": 6,
   "metadata": {},
   "outputs": [
    {
     "name": "stderr",
     "output_type": "stream",
     "text": [
      "/home/george/.conda/envs/tfgpu/lib/python3.6/site-packages/ipykernel_launcher.py:8: DeprecationWarning: Call to deprecated `iter` (Attribute will be removed in 4.0.0, use self.epochs instead).\n",
      "  \n"
     ]
    }
   ],
   "source": [
    "if w2vType == 'FastText':\n",
    "    model = FastText(size=n_dim, window=5, min_count=1, workers=num_threads)\n",
    "else:\n",
    "    model = Word2Vec(size=n_dim, window=5, min_count=1, workers=num_threads)\n",
    "\n",
    "model.build_vocab(sentences)\n",
    "total_examples = model.corpus_count\n",
    "model.train(sentences, total_examples=total_examples, epochs=10)"
   ]
  },
  {
   "cell_type": "code",
   "execution_count": 16,
   "metadata": {},
   "outputs": [
    {
     "name": "stdout",
     "output_type": "stream",
     "text": [
      "怎么\n",
      "[('不会', 0.5064429044723511), ('决不会', 0.4983918368816376), ('不用说', 0.48813581466674805), ('水要', 0.4860231280326843), ('绝不', 0.4816606640815735), ('不用', 0.48127835988998413), ('不用浪费', 0.47965356707572937), ('擅用', 0.4783220589160919), ('不用谢', 0.4777706265449524), ('在于', 0.4675619304180145)]\n"
     ]
    }
   ],
   "source": [
    "word = vocab_inv[64]\n",
    "print(word)\n",
    "print(model.wv.similar_by_word(word))"
   ]
  },
  {
   "cell_type": "code",
   "execution_count": 17,
   "metadata": {},
   "outputs": [],
   "source": [
    "model.wv.save(embed_name)"
   ]
  },
  {
   "cell_type": "code",
   "execution_count": null,
   "metadata": {},
   "outputs": [],
   "source": []
  }
 ],
 "metadata": {
  "kernelspec": {
   "display_name": "Python 3",
   "language": "python",
   "name": "python3"
  },
  "language_info": {
   "codemirror_mode": {
    "name": "ipython",
    "version": 3
   },
   "file_extension": ".py",
   "mimetype": "text/x-python",
   "name": "python",
   "nbconvert_exporter": "python",
   "pygments_lexer": "ipython3",
   "version": "3.6.0"
  }
 },
 "nbformat": 4,
 "nbformat_minor": 2
}
