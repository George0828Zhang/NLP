{
 "cells": [
  {
   "cell_type": "code",
   "execution_count": 1,
   "metadata": {},
   "outputs": [],
   "source": [
    "num_threads = 4\n",
    "embed_name = 'fasttext100d'\n",
    "vocab_name = 'vocab.json'\n",
    "sent2seq_name = 'sent2seq.json'\n",
    "sent2seq_test_name = 'sent2seq_test.json'\n",
    "w2vType = 'FastText' # or Word2Vec\n",
    "n_dim = 200"
   ]
  },
  {
   "cell_type": "code",
   "execution_count": 2,
   "metadata": {},
   "outputs": [],
   "source": [
    "import json\n",
    "import numpy as np\n",
    "from gensim.models import Word2Vec, KeyedVectors, FastText"
   ]
  },
  {
   "cell_type": "code",
   "execution_count": 3,
   "metadata": {},
   "outputs": [],
   "source": [
    "BOS = '<bos>'\n",
    "EOS = '<eos>'\n",
    "PAD = '<pad>'\n",
    "UNK = '<unk>'\n",
    "MAX_Q_LEN = 20\n",
    "MAX_A_LEN = 20"
   ]
  },
  {
   "cell_type": "code",
   "execution_count": 4,
   "metadata": {},
   "outputs": [
    {
     "name": "stdout",
     "output_type": "stream",
     "text": [
      "loading vocab.json\n",
      "done\n",
      "loading sent2seq.json\n",
      "done\n",
      "done\n"
     ]
    }
   ],
   "source": [
    "##### Data Loader\n",
    "print('loading ' + vocab_name)\n",
    "vocab = json.load(open(vocab_name, 'r', encoding='utf-8'))\n",
    "vocab_inv = {ind:word for word, ind in vocab.items()}\n",
    "print('done')\n",
    "\n",
    "print('loading ' + sent2seq_name)\n",
    "Sent2Seq = json.load(open(sent2seq_name, 'r'))\n",
    "# Sent2Seq_test = json.load(open(sent2seq_test_name, 'r'))\n",
    "print('done')\n",
    "\n",
    "iBOS = vocab[BOS]\n",
    "iPAD = vocab[PAD]\n",
    "iEOS = vocab[EOS]\n",
    "\n",
    "sentences = []\n",
    "for sid, seq in Sent2Seq.items():\n",
    "    sent = [BOS] + [vocab_inv[wid] for wid in seq] + [EOS, PAD, PAD]\n",
    "    sentences.append(sent)\n",
    "# for sid, seq in Sent2Seq_test.items():\n",
    "#     sent = [BOS] + [vocab_inv[wid] for wid in seq] + [EOS, PAD, PAD]\n",
    "#     sentences.append(sent)\n",
    "\n",
    "print('done')"
   ]
  },
  {
   "cell_type": "code",
   "execution_count": 5,
   "metadata": {},
   "outputs": [],
   "source": [
    "from gensim.models.callbacks import CallbackAny2Vec\n",
    "class EpochLogger(CallbackAny2Vec):\n",
    "    def __init__(self):\n",
    "        self.epoch = 0\n",
    "    def on_epoch_begin(self, model):\n",
    "        print(\"Epoch #{} start\".format(self.epoch))\n",
    "    def on_epoch_end(self, model):\n",
    "        print(\"Epoch #{} end\".format(self.epoch))\n",
    "        self.epoch += 1"
   ]
  },
  {
   "cell_type": "code",
   "execution_count": 6,
   "metadata": {},
   "outputs": [
    {
     "name": "stdout",
     "output_type": "stream",
     "text": [
      "Epoch #0 start\n",
      "Epoch #0 end\n",
      "Epoch #1 start\n",
      "Epoch #1 end\n",
      "Epoch #2 start\n",
      "Epoch #2 end\n",
      "Epoch #3 start\n",
      "Epoch #3 end\n",
      "Epoch #4 start\n",
      "Epoch #4 end\n",
      "Epoch #5 start\n",
      "Epoch #5 end\n",
      "Epoch #6 start\n",
      "Epoch #6 end\n",
      "Epoch #7 start\n",
      "Epoch #7 end\n",
      "Epoch #8 start\n",
      "Epoch #8 end\n",
      "Epoch #9 start\n",
      "Epoch #9 end\n"
     ]
    }
   ],
   "source": [
    "if w2vType == 'FastText':\n",
    "    model = FastText(size=n_dim, window=5, min_count=1, workers=num_threads)\n",
    "else:\n",
    "    model = Word2Vec(size=n_dim, window=5, min_count=1, workers=num_threads)\n",
    "\n",
    "model.build_vocab(sentences)\n",
    "total_examples = model.corpus_count\n",
    "logger = EpochLogger()\n",
    "model.train(sentences, total_examples=total_examples, epochs=10, callbacks=[logger])"
   ]
  },
  {
   "cell_type": "code",
   "execution_count": 7,
   "metadata": {},
   "outputs": [
    {
     "name": "stdout",
     "output_type": "stream",
     "text": [
      "30\n",
      "[('530', 0.9054430723190308), ('430', 0.9018285274505615), ('40', 0.8787569999694824), ('152', 0.8763628602027893), ('156', 0.868262529373169), ('154', 0.8674358129501343), ('159', 0.8603119850158691), ('130', 0.8566989302635193), ('230', 0.8561074733734131), ('155', 0.8538743257522583)]\n"
     ]
    }
   ],
   "source": [
    "word = vocab_inv[64]\n",
    "print(word)\n",
    "print(model.wv.similar_by_word(word))"
   ]
  },
  {
   "cell_type": "code",
   "execution_count": 8,
   "metadata": {},
   "outputs": [],
   "source": [
    "model.wv.save(embed_name)"
   ]
  },
  {
   "cell_type": "code",
   "execution_count": 12,
   "metadata": {},
   "outputs": [
    {
     "name": "stdout",
     "output_type": "stream",
     "text": [
      "done.\n"
     ]
    }
   ],
   "source": [
    "import numpy as np\n",
    "VOCAB_SZ = len(vocab)\n",
    "def l2_normd_np(a):\n",
    "    b = np.linalg.norm(a)\n",
    "    return 0*a if b == 0 else a / b\n",
    "\n",
    "wv_matrix = (np.random.rand(VOCAB_SZ, n_dim) - 0.5) / 5.0\n",
    "for wid in range(VOCAB_SZ):\n",
    "    word = vocab_inv[wid]\n",
    "    vec = model.wv[word]\n",
    "    wv_matrix[wid] = l2_normd_np(vec)\n",
    "\n",
    "print(\"done.\")"
   ]
  },
  {
   "cell_type": "code",
   "execution_count": 14,
   "metadata": {},
   "outputs": [],
   "source": [
    "np.save(\"wv_matrix\", wv_matrix)"
   ]
  },
  {
   "cell_type": "code",
   "execution_count": null,
   "metadata": {},
   "outputs": [],
   "source": []
  }
 ],
 "metadata": {
  "kernelspec": {
   "display_name": "Python 3",
   "language": "python",
   "name": "python3"
  },
  "language_info": {
   "codemirror_mode": {
    "name": "ipython",
    "version": 3
   },
   "file_extension": ".py",
   "mimetype": "text/x-python",
   "name": "python",
   "nbconvert_exporter": "python",
   "pygments_lexer": "ipython3",
   "version": "3.6.0"
  }
 },
 "nbformat": 4,
 "nbformat_minor": 2
}
