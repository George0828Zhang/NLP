{
 "cells": [
  {
   "cell_type": "code",
   "execution_count": 1,
   "metadata": {},
   "outputs": [],
   "source": [
    "num_threads = 4\n",
    "train_name = 'train.csv'\n",
    "test_name = 'test.csv'\n",
    "model_name = 'models/RNNv1'\n",
    "mode = 'chinese' # english / chinese\n",
    "vocab_name = 'vocab.json'\n",
    "sent2seq_name = 'sent2seq.json'\n",
    "sent2seq_test_name = 'sent2seq_test.json'"
   ]
  },
  {
   "cell_type": "code",
   "execution_count": 2,
   "metadata": {},
   "outputs": [],
   "source": [
    "from multiprocessing.pool import ThreadPool as Pool\n",
    "import json\n",
    "from tqdm import tqdm_notebook as tqdm\n",
    "import jieba.posseg as pseg\n",
    "import csv\n",
    "import numpy as np\n",
    "from tensorflow.keras.preprocessing.sequence import pad_sequences"
   ]
  },
  {
   "cell_type": "code",
   "execution_count": 3,
   "metadata": {},
   "outputs": [],
   "source": [
    "BOS = '<bos>'\n",
    "EOS = '<eos>'\n",
    "PAD = '<pad>'\n",
    "UNK = '<unk>'\n",
    "MAX_Q_LEN = 20\n",
    "MAX_A_LEN = 20"
   ]
  },
  {
   "cell_type": "code",
   "execution_count": 4,
   "metadata": {},
   "outputs": [
    {
     "name": "stdout",
     "output_type": "stream",
     "text": [
      "loading vocab.json\n",
      "done\n",
      "loading sent2seq.json\n",
      "done\n",
      "Loading train.csv ...\n"
     ]
    },
    {
     "data": {
      "application/vnd.jupyter.widget-view+json": {
       "model_id": "2aba9e5079984bd0a5ea2f86c28c0020",
       "version_major": 2,
       "version_minor": 0
      },
      "text/plain": [
       "HBox(children=(IntProgress(value=0, max=320553), HTML(value='')))"
      ]
     },
     "metadata": {},
     "output_type": "display_data"
    },
    {
     "name": "stdout",
     "output_type": "stream",
     "text": [
      "\n",
      "done. 320552 data loaded.\n"
     ]
    }
   ],
   "source": [
    "##### Data Loader\n",
    "print('loading ' + vocab_name)\n",
    "vocab = json.load(open(vocab_name, 'r', encoding='utf-8'))\n",
    "print('done')\n",
    "\n",
    "print('loading ' + sent2seq_name)\n",
    "Sent2Seq = json.load(open(sent2seq_name, 'r'))\n",
    "print('done')\n",
    "\n",
    "iBOS = vocab[BOS]\n",
    "iPAD = vocab[PAD]\n",
    "iEOS = vocab[EOS]\n",
    "\n",
    "print(\"Loading {} ...\".format(train_name))\n",
    "data1 = []\n",
    "data2 = []\n",
    "label = []\n",
    "\n",
    "Reader = csv.reader(open(train_name, newline='', encoding='utf-8'), delimiter=',', quotechar='\"')\n",
    "row_count = sum(1 for row in Reader)\n",
    "Reader = csv.reader(open(train_name, newline='', encoding='utf-8'), delimiter=',', quotechar='\"')\n",
    "for i,fields in tqdm(enumerate(Reader), total=row_count):    \n",
    "    if i == 0:\n",
    "        continue\n",
    "    tid1, tid2 = fields[1:3]\n",
    "    sent1 = [iBOS] + Sent2Seq[tid1] + [iEOS]\n",
    "    sent2 = [iBOS] + Sent2Seq[tid2] + [iEOS]\n",
    "    data1.append(sent1)\n",
    "    data2.append(sent2)\n",
    "    label.append(fields[7])\n",
    "NUM_DATA = len(data1)\n",
    "print(\"done. {} data loaded.\".format(NUM_DATA))"
   ]
  },
  {
   "cell_type": "code",
   "execution_count": 27,
   "metadata": {},
   "outputs": [
    {
     "name": "stdout",
     "output_type": "stream",
     "text": [
      "done\n"
     ]
    }
   ],
   "source": [
    "data1 = pad_sequences(data1, maxlen=None, padding='pre', truncating='pre', value=iPAD)\n",
    "data2 = pad_sequences(data2, maxlen=None, padding='pre', truncating='pre', value=iPAD)\n",
    "print('done')\n",
    "\n",
    "num_agree = sum([lb == 'agreed' for lb in label])\n",
    "num_disagree = sum([lb == 'disagreed' for lb in label])\n",
    "num_unrelated = sum([lb == 'unrelated' for lb in label])\n",
    "\n",
    "lbtype = {'agreed': 0, 'disagreed': 1, 'unrelated': 2}\n",
    "lbweight = {lbtype['agreed']: 1/15, lbtype['disagreed']: 1/5, lbtype['unrelated']: 1/16}\n",
    "# lbweight = {lbtype['agreed']: NUM_DATA/num_agree, lbtype['disagreed']: NUM_DATA/num_disagree, lbtype['unrelated']: NUM_DATA/num_unrelated}\n",
    "# print(lbweight)\n",
    "labelcat = []\n",
    "for lb in label:\n",
    "    labelcat.append(lbtype[lb])"
   ]
  },
  {
   "cell_type": "code",
   "execution_count": 28,
   "metadata": {},
   "outputs": [
    {
     "name": "stdout",
     "output_type": "stream",
     "text": [
      "{0: 0.06666666666666667, 1: 0.2, 2: 0.0625}\n"
     ]
    }
   ],
   "source": [
    "print(lbweight)\n",
    "# print(lbweight2)"
   ]
  },
  {
   "cell_type": "code",
   "execution_count": 29,
   "metadata": {},
   "outputs": [],
   "source": [
    "MAX_Q_LEN = data1.shape[1]\n",
    "MAX_A_LEN = data2.shape[1]"
   ]
  },
  {
   "cell_type": "code",
   "execution_count": 30,
   "metadata": {},
   "outputs": [],
   "source": [
    "VOCAB_SZ = len(vocab)"
   ]
  },
  {
   "cell_type": "code",
   "execution_count": 31,
   "metadata": {
    "scrolled": true
   },
   "outputs": [],
   "source": [
    "RNN_HIDDEN = 40\n",
    "EMBED_DIM = 100\n",
    "DENSE_HIDDEN = 1"
   ]
  },
  {
   "cell_type": "code",
   "execution_count": 32,
   "metadata": {},
   "outputs": [],
   "source": [
    "wv_matrix = np.load('wv_matrix'+'.npy')"
   ]
  },
  {
   "cell_type": "code",
   "execution_count": 33,
   "metadata": {},
   "outputs": [
    {
     "name": "stdout",
     "output_type": "stream",
     "text": [
      "__________________________________________________________________________________________________\n",
      "Layer (type)                    Output Shape         Param #     Connected to                     \n",
      "==================================================================================================\n",
      "Sentence1 (InputLayer)          (None, 76)           0                                            \n",
      "__________________________________________________________________________________________________\n",
      "Sentence2 (InputLayer)          (None, 83)           0                                            \n",
      "__________________________________________________________________________________________________\n",
      "WordEmbedding (Embedding)       multiple             7105400     Sentence1[0][0]                  \n",
      "                                                                 Sentence2[0][0]                  \n",
      "__________________________________________________________________________________________________\n",
      "bidirectional_8 (Bidirectional) multiple             45440       WordEmbedding[0][0]              \n",
      "                                                                 WordEmbedding[1][0]              \n",
      "__________________________________________________________________________________________________\n",
      "bidirectional_9 (Bidirectional) multiple             39040       bidirectional_8[0][0]            \n",
      "                                                                 bidirectional_8[1][0]            \n",
      "__________________________________________________________________________________________________\n",
      "Pooling (GlobalMaxPooling1D)    (None, 80)           0           bidirectional_9[0][0]            \n",
      "                                                                 bidirectional_9[1][0]            \n",
      "__________________________________________________________________________________________________\n",
      "Interaction (Multiply)          (None, 80)           0           Pooling[0][0]                    \n",
      "                                                                 Pooling[1][0]                    \n",
      "__________________________________________________________________________________________________\n",
      "dense_6 (Dense)                 (None, 1)            81          Interaction[0][0]                \n",
      "__________________________________________________________________________________________________\n",
      "dense_7 (Dense)                 (None, 3)            6           dense_6[0][0]                    \n",
      "==================================================================================================\n",
      "Total params: 7,189,967\n",
      "Trainable params: 7,189,967\n",
      "Non-trainable params: 0\n",
      "__________________________________________________________________________________________________\n"
     ]
    }
   ],
   "source": [
    "from tensorflow.keras.models import Model\n",
    "from tensorflow.keras import backend as K\n",
    "# core\n",
    "from tensorflow.keras.layers import Input, Dense, Embedding, Activation, BatchNormalization, Dropout\n",
    "from tensorflow.keras.layers import CuDNNGRU, CuDNNLSTM, GRU, LSTM\n",
    "from tensorflow.keras.layers import GlobalMaxPooling1D, GlobalAveragePooling1D\n",
    "from tensorflow.keras.layers import Dot, Bidirectional, TimeDistributed, Lambda, Multiply, Concatenate, Flatten\n",
    "\n",
    "L_EmbeddingLayer = Embedding(VOCAB_SZ, EMBED_DIM, mask_zero=False, weights=[wv_matrix], trainable=True, name='WordEmbedding')\n",
    "# L_EmbeddingLayer = Embedding(VOCAB_SZ, EMBED_DIM, name='WordEmbedding')\n",
    "\n",
    "t_query = Input(shape=(MAX_Q_LEN,), dtype='int32', name='Sentence1')\n",
    "t_enc_Q = L_EmbeddingLayer(t_query)\n",
    "\n",
    "t_answer = Input(shape=(MAX_A_LEN,), dtype='int32', name='Sentence2')\n",
    "t_enc_A = L_EmbeddingLayer(t_answer)\n",
    "\n",
    "RNNLayer1 = Bidirectional(CuDNNLSTM(RNN_HIDDEN, unit_forget_bias=True, return_sequences=True, name='RNN1'), merge_mode='concat')\n",
    "RNNLayer2 = Bidirectional(CuDNNLSTM(RNN_HIDDEN, unit_forget_bias=True, return_sequences=True, name='RNN2'), merge_mode='concat')\n",
    "RNNLayer3 = Bidirectional(CuDNNLSTM(RNN_HIDDEN, unit_forget_bias=True, return_sequences=True, name='RNN3'), merge_mode='concat')\n",
    "MaxPoolingLayer = GlobalMaxPooling1D(name='Pooling')\n",
    "\n",
    "semi_out_q = RNNLayer1(t_enc_Q)\n",
    "semi_out_q = RNNLayer2(semi_out_q)\n",
    "# semi_out_q = RNNLayer3(semi_out_q)\n",
    "semi_out_q = MaxPoolingLayer(semi_out_q)\n",
    "\n",
    "semi_out_a = RNNLayer1(t_enc_A)\n",
    "semi_out_a = RNNLayer2(semi_out_a)\n",
    "# semi_out_a = RNNLayer3(semi_out_a)\n",
    "semi_out_a = MaxPoolingLayer(semi_out_a)\n",
    "\n",
    "DenseLayer1 = Dense(DENSE_HIDDEN, activation='tanh', use_bias=True)\n",
    "DenseLayer2 = Dense(3, activation='softmax', use_bias=True)\n",
    "DropLayer1 = Dropout(0.5)\n",
    "DropLayer2 = Dropout(0.5)\n",
    "\n",
    "# semi_out_qa = Concatenate(axis=-1, name='Interaction')([semi_out_q, semi_out_a])\n",
    "semi_out_qa = Multiply(name='Interaction')([semi_out_q, semi_out_a])\n",
    "# semi_out_qa = DropLayer1(semi_out_qa)\n",
    "semi_out_qa = DenseLayer1(semi_out_qa)\n",
    "# semi_out_qa = DropLayer2(semi_out_qa)\n",
    "output = DenseLayer2(semi_out_qa)\n",
    "\n",
    "model = Model(inputs=[t_query, t_answer], outputs=output)\n",
    "\n",
    "model.summary()\n",
    "from tensorflow.keras.utils import plot_model\n",
    "plot_model(model, to_file='model_summary.png', show_shapes=True)"
   ]
  },
  {
   "cell_type": "code",
   "execution_count": null,
   "metadata": {
    "scrolled": true
   },
   "outputs": [
    {
     "name": "stderr",
     "output_type": "stream",
     "text": [
      "/home/george/.conda/envs/tfgpu/lib/python3.6/site-packages/tensorflow/python/ops/gradients_impl.py:112: UserWarning: Converting sparse IndexedSlices to a dense Tensor of unknown shape. This may consume a large amount of memory.\n",
      "  \"Converting sparse IndexedSlices to a dense Tensor of unknown shape. \"\n"
     ]
    },
    {
     "name": "stdout",
     "output_type": "stream",
     "text": [
      "Train on 304524 samples, validate on 16028 samples\n",
      "Epoch 1/100\n",
      "304524/304524 [==============================] - 65s 212us/step - loss: 0.6881 - acc: 0.7846 - val_loss: 0.7123 - val_acc: 0.7383\n",
      "Epoch 2/100\n",
      "304524/304524 [==============================] - 62s 205us/step - loss: 0.5336 - acc: 0.8478 - val_loss: 0.6959 - val_acc: 0.7484\n",
      "Epoch 3/100\n",
      "304524/304524 [==============================] - 62s 204us/step - loss: 0.4737 - acc: 0.8732 - val_loss: 0.6384 - val_acc: 0.7605\n",
      "Epoch 4/100\n",
      "304524/304524 [==============================] - 62s 205us/step - loss: 0.4400 - acc: 0.8878 - val_loss: 0.6411 - val_acc: 0.7690\n",
      "Epoch 5/100\n",
      "304524/304524 [==============================] - 62s 205us/step - loss: 0.4142 - acc: 0.8979 - val_loss: 0.6326 - val_acc: 0.7965\n",
      "Epoch 6/100\n",
      "304524/304524 [==============================] - 62s 205us/step - loss: 0.3931 - acc: 0.9054 - val_loss: 0.6621 - val_acc: 0.7777\n",
      "Epoch 7/100\n",
      "304524/304524 [==============================] - 62s 205us/step - loss: 0.3755 - acc: 0.9111 - val_loss: 0.6675 - val_acc: 0.7955\n",
      "Epoch 8/100\n",
      "304524/304524 [==============================] - 62s 205us/step - loss: 0.3600 - acc: 0.9156 - val_loss: 0.6961 - val_acc: 0.7937\n",
      "Epoch 9/100\n",
      "304524/304524 [==============================] - 62s 205us/step - loss: 0.3463 - acc: 0.9199 - val_loss: 0.7207 - val_acc: 0.7745\n",
      "Epoch 10/100\n",
      "  1408/304524 [..............................] - ETA: 1:03 - loss: 0.3187 - acc: 0.9276"
     ]
    }
   ],
   "source": [
    "from tensorflow.keras.callbacks import EarlyStopping, ModelCheckpoint, ReduceLROnPlateau, LambdaCallback\n",
    "from tensorflow.keras.optimizers import RMSprop, Adam\n",
    "\n",
    "epochs = 100\n",
    "starting = 0\n",
    "optimizer = RMSprop(lr=0.001, clipnorm=15.)\n",
    "# optimizer = Adam(lr=0.001, clipnorm=15.)\n",
    "model.compile(optimizer=optimizer, loss='sparse_categorical_crossentropy', metrics=[\"accuracy\"])\n",
    "\n",
    "earlystp = EarlyStopping(monitor=\"val_loss\", patience=10, verbose=1, mode=\"auto\")\n",
    "checkpoint = ModelCheckpoint(model_name+'_{epoch:02d}.hdf5', monitor='val_loss', \\\n",
    "                             verbose=0, save_best_only=False, save_weights_only=False, \\\n",
    "                             mode='auto', period=1)\n",
    "lrreduc = ReduceLROnPlateau(monitor='val_loss', factor=0.5,\n",
    "                              patience=5, min_lr=0.00001, verbose=1, cooldown=3)\n",
    "# evaluate(None,None)\n",
    "model.fit(x=[data1, data2],y=labelcat, batch_size=128, epochs=epochs, \\\n",
    "           initial_epoch=starting, shuffle=True,\\\n",
    "          callbacks=[earlystp, lrreduc, checkpoint], validation_split=0.05, class_weight = lbweight)\n",
    "\n",
    "model.save(model_name+'.hdf5')"
   ]
  },
  {
   "cell_type": "code",
   "execution_count": null,
   "metadata": {},
   "outputs": [],
   "source": [
    "model.save(model_name+'.hdf5')"
   ]
  },
  {
   "cell_type": "code",
   "execution_count": 20,
   "metadata": {},
   "outputs": [],
   "source": [
    "model.load_weights(model_name+'_{:02d}.hdf5'.format(5))"
   ]
  },
  {
   "cell_type": "code",
   "execution_count": 21,
   "metadata": {},
   "outputs": [
    {
     "name": "stdout",
     "output_type": "stream",
     "text": [
      "Loading test.csv ...\n",
      "done. 62767 data loaded.\n"
     ]
    }
   ],
   "source": [
    "##### Test Data Loader\n",
    "print(\"Loading {} ...\".format(test_name))\n",
    "testsents = {}\n",
    "testdata1 = []\n",
    "testdata2 = []\n",
    "testid = []\n",
    "Reader = csv.reader(open(test_name, newline='', encoding='utf-8'), delimiter=',', quotechar='\"')\n",
    "for i,fields in enumerate(Reader):    \n",
    "    if i == 0:\n",
    "        continue\n",
    "    testid.append(fields[0])\n",
    "    tid1, tid2 = fields[1:3]\n",
    "    if mode == 'english':\n",
    "        sent1 = fields[5]\n",
    "        sent2 = fields[6]\n",
    "    elif mode == 'chinese':\n",
    "        sent1 = fields[3]\n",
    "        sent2 = fields[4]\n",
    "    if tid1 not in testsents:\n",
    "        testsents[tid1] = sent1 \n",
    "    if tid2 not in testsents:\n",
    "        testsents[tid2] = sent2\n",
    "    testdata1.append(tid1)\n",
    "    testdata2.append(tid2)\n",
    "NUM_DATA = len(testsents)\n",
    "print(\"done. {} data loaded.\".format(NUM_DATA))"
   ]
  },
  {
   "cell_type": "code",
   "execution_count": 22,
   "metadata": {},
   "outputs": [],
   "source": [
    "##### Sent2Seq\n",
    "def sent2seq():\n",
    "    for key, sent in tqdm(testsents.items()):\n",
    "        words = pseg.cut(sent)\n",
    "        out_seq = []\n",
    "        for w,flag in words:\n",
    "            if flag is not 'x':\n",
    "                try:\n",
    "                    wid = vocab[w]\n",
    "                except KeyError:\n",
    "                    wid = vocab[UNK]\n",
    "                out_seq.append(wid)\n",
    "        testsents[key] = out_seq\n",
    "\n",
    "    sent2seq_test_name = 'sent2seq_test.json'\n",
    "    json.dump(testsents, open(sent2seq_test_name, 'w'))"
   ]
  },
  {
   "cell_type": "code",
   "execution_count": 23,
   "metadata": {},
   "outputs": [
    {
     "name": "stdout",
     "output_type": "stream",
     "text": [
      "done\n"
     ]
    }
   ],
   "source": [
    "testsents = json.load(open(sent2seq_test_name))\n",
    "\n",
    "for i,d in enumerate(testdata1):\n",
    "    seq = [BOS] + testsents[d] + [EOS]\n",
    "    testdata1[i] = seq\n",
    "for i,d in enumerate(testdata2):\n",
    "    seq = [BOS] + testsents[d] + [EOS]\n",
    "    testdata2[i] = seq\n",
    "    \n",
    "testdata1 = pad_sequences(data1, maxlen=MAX_Q_LEN, padding='pre', truncating='pre', value=iPAD)\n",
    "testdata2 = pad_sequences(data2, maxlen=MAX_A_LEN, padding='pre', truncating='pre', value=iPAD)\n",
    "print('done')"
   ]
  },
  {
   "cell_type": "code",
   "execution_count": 24,
   "metadata": {},
   "outputs": [
    {
     "name": "stdout",
     "output_type": "stream",
     "text": [
      "320552/320552 [==============================] - 9s 27us/step\n"
     ]
    }
   ],
   "source": [
    "testprobs = model.predict(x=[testdata1, testdata2], batch_size=1024, verbose=1)"
   ]
  },
  {
   "cell_type": "code",
   "execution_count": 25,
   "metadata": {},
   "outputs": [],
   "source": [
    "testlabel = [np.argmax(lb) for lb in testprobs]"
   ]
  },
  {
   "cell_type": "code",
   "execution_count": 26,
   "metadata": {},
   "outputs": [],
   "source": [
    "type2lb = ['agreed', 'disagreed', 'unrelated']\n",
    "outcsv = open('predict.csv', 'w')\n",
    "outcsv.write(\"Id,Category\\n\")\n",
    "for t, lb in zip(testid, testlabel):\n",
    "    outcsv.write(\"{},{}\\n\".format(t, type2lb[lb]))\n",
    "outcsv.close()"
   ]
  },
  {
   "cell_type": "code",
   "execution_count": null,
   "metadata": {},
   "outputs": [],
   "source": []
  }
 ],
 "metadata": {
  "kernelspec": {
   "display_name": "Python 3",
   "language": "python",
   "name": "python3"
  },
  "language_info": {
   "codemirror_mode": {
    "name": "ipython",
    "version": 3
   },
   "file_extension": ".py",
   "mimetype": "text/x-python",
   "name": "python",
   "nbconvert_exporter": "python",
   "pygments_lexer": "ipython3",
   "version": "3.6.0"
  }
 },
 "nbformat": 4,
 "nbformat_minor": 2
}
