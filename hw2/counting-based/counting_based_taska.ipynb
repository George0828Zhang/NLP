{
 "cells": [
  {
   "cell_type": "markdown",
   "metadata": {},
   "source": [
    "### Basic Setting"
   ]
  },
  {
   "cell_type": "code",
   "execution_count": 1,
   "metadata": {},
   "outputs": [],
   "source": [
    "data_dir = './data/project2_data/'\n",
    "train_data = data_dir+'olid-training-v1.0.tsv'\n",
    "test_data_file = data_dir+'testset-levela.tsv'\n",
    "test_ans_file = data_dir+'labels-levela.csv'\n",
    "import re\n",
    "import matplotlib.pyplot as plt\n",
    "from sklearn.metrics import f1_score\n",
    "regex = re.compile('[^a-zA-Z]')"
   ]
  },
  {
   "cell_type": "code",
   "execution_count": 2,
   "metadata": {},
   "outputs": [],
   "source": [
    "def process_sent(sent):\n",
    "    segs = sent.split()\n",
    "    remove = [regex.sub('', i) for i in segs]\n",
    "    return remove"
   ]
  },
  {
   "cell_type": "markdown",
   "metadata": {},
   "source": [
    "### Loading training data"
   ]
  },
  {
   "cell_type": "code",
   "execution_count": 3,
   "metadata": {},
   "outputs": [],
   "source": [
    "first = True\n",
    "vocab = {}\n",
    "train_w = {}\n",
    "train_label = {}\n",
    "with open(train_data, 'r') as f:\n",
    "    for line in f:\n",
    "        if first:\n",
    "            first = False\n",
    "            continue\n",
    "        segs = line.split('\\t')\n",
    "        id = segs[0]\n",
    "        sent = segs[1]\n",
    "        label = segs[2]\n",
    "#         print(id, sent, label)\n",
    "        sent = process_sent(sent)\n",
    "        for w in sent:\n",
    "\n",
    "            if w not in vocab:\n",
    "                vocab[w] = {}\n",
    "                vocab[w]['NOT'] = 0\n",
    "                vocab[w]['OFF'] = 0\n",
    "            \n",
    "            vocab[w][label] += 1\n",
    "        train_label[str(id)] = label\n",
    "        train_w[str(id)] = sent"
   ]
  },
  {
   "cell_type": "markdown",
   "metadata": {},
   "source": [
    "### Define score and condition"
   ]
  },
  {
   "cell_type": "code",
   "execution_count": 4,
   "metadata": {},
   "outputs": [],
   "source": [
    "def count_score(sent):\n",
    "    score = 0\n",
    "    for w in sent:\n",
    "        if w in vocab and vocab[w]['NOT'] < vocab[w]['OFF']:\n",
    "            score += vocab[w]['OFF']/(vocab[w]['NOT']+vocab[w]['OFF'])\n",
    "    return score/len(sent)"
   ]
  },
  {
   "cell_type": "code",
   "execution_count": 5,
   "metadata": {},
   "outputs": [],
   "source": [
    "record = {\n",
    "    'OFF': [],\n",
    "    'NOT': []\n",
    "}\n",
    "for id in train_w:\n",
    "    score = count_score(train_w[id])\n",
    "    record[train_label[id]].append(score)"
   ]
  },
  {
   "cell_type": "code",
   "execution_count": 6,
   "metadata": {},
   "outputs": [
    {
     "data": {
      "text/plain": [
       "{'NOT': 30, 'OFF': 294}"
      ]
     },
     "execution_count": 6,
     "metadata": {},
     "output_type": "execute_result"
    }
   ],
   "source": [
    "vocab['shit']"
   ]
  },
  {
   "cell_type": "markdown",
   "metadata": {},
   "source": [
    "### Show Score Distrubution"
   ]
  },
  {
   "cell_type": "code",
   "execution_count": 7,
   "metadata": {},
   "outputs": [
    {
     "data": {
      "image/png": "[encoded data removed]",
      "text/plain": [
       "<Figure size 432x288 with 1 Axes>"
      ]
     },
     "metadata": {
      "needs_background": "light"
     },
     "output_type": "display_data"
    },
    {
     "name": "stdout",
     "output_type": "stream",
     "text": [
      "0.14648343119647989\n"
     ]
    }
   ],
   "source": [
    "plt.hist(record['OFF'], bins='auto')\n",
    "plt.title(\"Offensive\")\n",
    "plt.show()\n",
    "# print(len(record['OFF']))\n",
    "print(sum(record['OFF'])/len(record['OFF']))"
   ]
  },
  {
   "cell_type": "code",
   "execution_count": 8,
   "metadata": {},
   "outputs": [
    {
     "data": {
      "image/png": "[encoded data removed]",
      "text/plain": [
       "<Figure size 432x288 with 1 Axes>"
      ]
     },
     "metadata": {
      "needs_background": "light"
     },
     "output_type": "display_data"
    },
    {
     "name": "stdout",
     "output_type": "stream",
     "text": [
      "0.015870178065945244\n"
     ]
    }
   ],
   "source": [
    "plt.hist(record['NOT'], bins='auto')\n",
    "plt.title(\"normal\")\n",
    "plt.show()\n",
    "# print(len(record['NOT']))\n",
    "print(sum(record['NOT'])/len(record['NOT']))"
   ]
  },
  {
   "cell_type": "code",
   "execution_count": 9,
   "metadata": {},
   "outputs": [],
   "source": [
    "def predict(sent):\n",
    "    if count_score(sent) > thres:\n",
    "        return 'OFF'\n",
    "    return 'NOT'"
   ]
  },
  {
   "cell_type": "markdown",
   "metadata": {},
   "source": [
    "### Apply on testing data"
   ]
  },
  {
   "cell_type": "code",
   "execution_count": 10,
   "metadata": {},
   "outputs": [],
   "source": [
    "thres = 0.04"
   ]
  },
  {
   "cell_type": "code",
   "execution_count": 11,
   "metadata": {},
   "outputs": [],
   "source": [
    "train_predict = {}\n",
    "for id in train_w:\n",
    "    train_predict[id] = predict(train_w[id])"
   ]
  },
  {
   "cell_type": "code",
   "execution_count": 12,
   "metadata": {},
   "outputs": [],
   "source": [
    "test_w = {}\n",
    "with open(test_data_file, 'r') as f:\n",
    "    first = True\n",
    "    for line in f:\n",
    "        if first:\n",
    "            first = False\n",
    "            continue\n",
    "        segs = line.split('\\t')\n",
    "        id = segs[0]\n",
    "        sent = segs[1]\n",
    "        \n",
    "        test_w[str(id)] = process_sent(sent)"
   ]
  },
  {
   "cell_type": "code",
   "execution_count": 13,
   "metadata": {},
   "outputs": [],
   "source": [
    "test_predict = {}\n",
    "for id in test_w:\n",
    "    test_predict[id] = predict(test_w[id])"
   ]
  },
  {
   "cell_type": "code",
   "execution_count": 14,
   "metadata": {},
   "outputs": [],
   "source": [
    "test_ans = {}\n",
    "with open(test_ans_file, 'r') as f:\n",
    "    for line in f:\n",
    "        segs = line.strip().split(',')\n",
    "        id = segs[0]\n",
    "        label = segs[1]\n",
    "        test_ans[id] = label"
   ]
  },
  {
   "cell_type": "code",
   "execution_count": 15,
   "metadata": {},
   "outputs": [],
   "source": [
    "def count_f1(predict, ans, label):\n",
    "    correct = 0\n",
    "    total = 0\n",
    "    for id in predict:\n",
    "        if ans[str(id)] == label:\n",
    "            total += 1\n",
    "        if predict[str(id)] == label and ans[str(id)] == label:\n",
    "            correct += 1\n",
    "    acc = correct / len(predict)\n",
    "    recall = correct / total\n",
    "    print(acc, recall)\n",
    "    return 2*acc*recall/(acc+recall)"
   ]
  },
  {
   "cell_type": "markdown",
   "metadata": {},
   "source": [
    "### Result"
   ]
  },
  {
   "cell_type": "code",
   "execution_count": 16,
   "metadata": {},
   "outputs": [
    {
     "name": "stdout",
     "output_type": "stream",
     "text": [
      "train f1: 0.862255935024546\n",
      "test f1: 0.6636653832133754\n"
     ]
    },
    {
     "name": "stderr",
     "output_type": "stream",
     "text": [
      "/home/b05902066/miniconda3/lib/python3.7/site-packages/sklearn/metrics/classification.py:1052: UserWarning: Note that pos_label (set to 'OFF') is ignored when average != 'binary' (got 'macro'). You may use labels=[pos_label] to specify a single positive class.\n",
      "  % (pos_label, average), UserWarning)\n"
     ]
    }
   ],
   "source": [
    "train_label_list = list(train_label.values())\n",
    "train_pre_list = list(train_predict.values())\n",
    "print('train f1:', f1_score(train_label_list,train_pre_list\n",
    "                            , labels=['OFF', 'NOT'], pos_label='OFF', average='macro'))\n",
    "\n",
    "test_label_list = list(test_ans.values())\n",
    "test_pre_list = list(test_predict.values())\n",
    "print('test f1:', f1_score(test_label_list,test_pre_list\n",
    "                            , labels=['OFF', 'NOT'], pos_label='OFF', average='macro'))"
   ]
  }
 ],
 "metadata": {
  "kernelspec": {
   "display_name": "Python 3",
   "language": "python",
   "name": "python3"
  },
  "language_info": {
   "codemirror_mode": {
    "name": "ipython",
    "version": 3
   },
   "file_extension": ".py",
   "mimetype": "text/x-python",
   "name": "python",
   "nbconvert_exporter": "python",
   "pygments_lexer": "ipython3",
   "version": "3.7.3"
  }
 },
 "nbformat": 4,
 "nbformat_minor": 2
}
