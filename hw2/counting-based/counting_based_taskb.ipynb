{
 "cells": [
  {
   "cell_type": "markdown",
   "metadata": {},
   "source": [
    "### Basic Setting"
   ]
  },
  {
   "cell_type": "code",
   "execution_count": 1,
   "metadata": {},
   "outputs": [],
   "source": [
    "data_dir = './data/project2_data/'\n",
    "train_data = data_dir+'olid-training-v1.0.tsv'\n",
    "test_data_file = data_dir+'testset-levelb.tsv'\n",
    "test_ans_file = data_dir+'labels-levelb.csv'\n",
    "import re\n",
    "import matplotlib.pyplot as plt\n",
    "from sklearn.metrics import f1_score\n",
    "regex = re.compile('[^a-zA-Z]')\n",
    "pos = 'TIN'\n",
    "neg = 'UNT'"
   ]
  },
  {
   "cell_type": "code",
   "execution_count": 2,
   "metadata": {},
   "outputs": [],
   "source": [
    "def process_sent(sent):\n",
    "    segs = sent.split()\n",
    "    remove = [regex.sub('', i) for i in segs]\n",
    "    return remove"
   ]
  },
  {
   "cell_type": "markdown",
   "metadata": {},
   "source": [
    "### Loading training data"
   ]
  },
  {
   "cell_type": "code",
   "execution_count": 3,
   "metadata": {},
   "outputs": [],
   "source": [
    "first = True\n",
    "vocab = {}\n",
    "train_w = {}\n",
    "train_label = {}\n",
    "with open(train_data, 'r') as f:\n",
    "    for line in f:\n",
    "        if first:\n",
    "            first = False\n",
    "            continue\n",
    "        segs = line.split('\\t')\n",
    "        id = segs[0]\n",
    "        sent = segs[1]\n",
    "        label = segs[3]\n",
    "        if label == 'NULL': continue\n",
    "        sent = process_sent(sent)\n",
    "        for w in sent:\n",
    "\n",
    "            if w not in vocab:\n",
    "                vocab[w] = {}\n",
    "                vocab[w][pos] = 0\n",
    "                vocab[w][neg] = 0\n",
    "            \n",
    "            vocab[w][label] += 1\n",
    "        train_label[str(id)] = label\n",
    "        train_w[str(id)] = sent"
   ]
  },
  {
   "cell_type": "code",
   "execution_count": 4,
   "metadata": {},
   "outputs": [],
   "source": [
    "vocab_ratio = [(w, vocab[w][pos]/(vocab[w][neg]+vocab[w][pos])) for w in vocab]"
   ]
  },
  {
   "cell_type": "code",
   "execution_count": 5,
   "metadata": {},
   "outputs": [
    {
     "name": "stdout",
     "output_type": "stream",
     "text": [
      "[('Kookoo', 1.0), ('mass', 1.0), ('shootings', 1.0), ('ups', 1.0), ('propaganda', 1.0), ('divide', 1.0), ('major', 1.0), ('terrorism', 1.0), ('Canada', 1.0), ('CUCK', 1.0), ('LooneyLeft', 1.0), ('fking', 1.0), ('Qproofs', 1.0), ('TrudeauMustGo', 1.0), ('traitor', 1.0), ('DeepStateCorruption', 1.0), ('Throwing', 1.0), ('BULLSHIT', 1.0), ('Flag', 1.0), ('nonsense', 1.0), ('PutUpOrShutUp', 1.0), ('CallTheVoteAlready', 1.0), ('Kind', 1.0), ('associate', 1.0), ('communist', 1.0), ('members', 1.0), ('Da', 1.0), ('room', 1.0), ('womens', 1.0), ('Pick', 1.0), ('Tbh', 1.0), ('general', 1.0), ('connect', 1.0), ('annoyance', 1.0), ('stalling', 1.0), ('lately', 1.0), ('DEMSUCK', 1.0), ('Gen', 1.0), ('Flynns', 1.0), ('sentencing', 1.0), ('keeps', 1.0), ('rescheduled', 1.0), ('expected', 1.0), ('placate', 1.0), ('violent', 1.0), ('leftiststerrorists', 1.0), ('KavanaughConfirmation', 1.0), ('woke', 1.0), ('British', 1.0), ('basically', 1.0), ('fullon', 1.0), ('voters', 1.0), ('Coincidence', 1.0), ('prison', 1.0), ('intent', 1.0), ('prisoners', 1.0), ('hurricane', 1.0), ('Louisiana', 1.0), ('inmates', 1.0), ('went', 1.0), ('Attempts', 1.0), ('follows', 1.0), ('Grateful', 1.0), ('dog', 1.0), ('cruel', 1.0), ('kicks', 1.0), ('dem', 1.0), ('dumber', 1.0), ('clown', 1.0), ('obstructionists', 1.0), ('Antiamerican', 1.0), ('Pharisees', 1.0), ('Ask', 1.0), ('worked', 1.0), ('drinking', 1.0), ('koolaid', 1.0), ('bloated', 1.0), ('Institution', 1.0), ('behaves', 1.0), ('Window', 1.0), ('Licker', 1.0), ('WTC', 1.0), ('threat', 1.0), ('QAnon', 1.0), ('WakeUpAmerica', 1.0), ('Please', 1.0), ('trump', 1.0), ('isa', 1.0), ('NARCISSISTIC', 1.0), ('SOCIOPATH', 1.0), ('movehe', 1.0), ('arguments', 1.0), ('may', 1.0), ('ugly', 1.0), ('black', 1.0), ('hearted', 1.0), ('saved', 1.0), ('SJW', 1.0), ('snowflakes', 1.0), ('safe', 1.0)]\n"
     ]
    }
   ],
   "source": [
    "vocab_ratio.sort(reverse=True, key=lambda x:x[1])\n",
    "print(vocab_ratio[:100])"
   ]
  },
  {
   "cell_type": "markdown",
   "metadata": {},
   "source": [
    "### Define score and condition"
   ]
  },
  {
   "cell_type": "code",
   "execution_count": 6,
   "metadata": {},
   "outputs": [],
   "source": [
    "def count_score(sent):\n",
    "    score = 0\n",
    "    for w in sent:\n",
    "        if w in vocab and vocab[w][pos]>7*vocab[w][neg]:\n",
    "            score += vocab[w][pos]/(vocab[w][neg]+vocab[w][pos])\n",
    "    return score/len(sent)"
   ]
  },
  {
   "cell_type": "code",
   "execution_count": 7,
   "metadata": {},
   "outputs": [],
   "source": [
    "record = {\n",
    "    pos: [],\n",
    "    neg: []\n",
    "}\n",
    "for id in train_w:\n",
    "    score = count_score(train_w[id])\n",
    "    record[train_label[id]].append(score)"
   ]
  },
  {
   "cell_type": "code",
   "execution_count": 8,
   "metadata": {},
   "outputs": [
    {
     "data": {
      "text/plain": [
       "{'TIN': 7925, 'UNT': 1022}"
      ]
     },
     "execution_count": 8,
     "metadata": {},
     "output_type": "execute_result"
    }
   ],
   "source": [
    "vocab['USER']"
   ]
  },
  {
   "cell_type": "markdown",
   "metadata": {},
   "source": [
    "### Show Score Distrubution"
   ]
  },
  {
   "cell_type": "code",
   "execution_count": 9,
   "metadata": {},
   "outputs": [
    {
     "data": {
      "image/png": "[encoded data removed]",
      "text/plain": [
       "<Figure size 432x288 with 1 Axes>"
      ]
     },
     "metadata": {
      "needs_background": "light"
     },
     "output_type": "display_data"
    },
    {
     "name": "stdout",
     "output_type": "stream",
     "text": [
      "3876\n",
      "0.7918615171411045\n"
     ]
    }
   ],
   "source": [
    "plt.hist(record[pos], bins='auto')\n",
    "plt.title(\"Offensive\")\n",
    "plt.show()\n",
    "print(len(record[pos]))\n",
    "print(sum(record[pos])/len(record[pos]))"
   ]
  },
  {
   "cell_type": "code",
   "execution_count": 10,
   "metadata": {},
   "outputs": [
    {
     "data": {
      "image/png": "[encoded data removed]",
      "text/plain": [
       "<Figure size 432x288 with 1 Axes>"
      ]
     },
     "metadata": {
      "needs_background": "light"
     },
     "output_type": "display_data"
    },
    {
     "name": "stdout",
     "output_type": "stream",
     "text": [
      "524\n",
      "0.49252773862972754\n"
     ]
    }
   ],
   "source": [
    "plt.hist(record[neg], bins='auto')\n",
    "plt.title(\"normal\")\n",
    "plt.show()\n",
    "print(len(record[neg]))\n",
    "print(sum(record[neg])/len(record[neg]))"
   ]
  },
  {
   "cell_type": "markdown",
   "metadata": {},
   "source": [
    "### Apply on testing data"
   ]
  },
  {
   "cell_type": "code",
   "execution_count": 11,
   "metadata": {},
   "outputs": [],
   "source": [
    "thres = 0.3"
   ]
  },
  {
   "cell_type": "code",
   "execution_count": 12,
   "metadata": {},
   "outputs": [],
   "source": [
    "def predict(sent):\n",
    "    if count_score(sent) > thres:\n",
    "        return pos\n",
    "    return neg"
   ]
  },
  {
   "cell_type": "code",
   "execution_count": 13,
   "metadata": {},
   "outputs": [],
   "source": [
    "train_predict = {}\n",
    "for id in train_w:\n",
    "    train_predict[id] = predict(train_w[id])"
   ]
  },
  {
   "cell_type": "code",
   "execution_count": 14,
   "metadata": {},
   "outputs": [],
   "source": [
    "test_w = {}\n",
    "with open(test_data_file, 'r') as f:\n",
    "    first = True\n",
    "    for line in f:\n",
    "        if first:\n",
    "            first = False\n",
    "            continue\n",
    "        segs = line.split('\\t')\n",
    "        id = segs[0]\n",
    "        sent = segs[1]\n",
    "        \n",
    "        test_w[str(id)] = process_sent(sent)"
   ]
  },
  {
   "cell_type": "code",
   "execution_count": 15,
   "metadata": {},
   "outputs": [],
   "source": [
    "test_predict = {}\n",
    "for id in test_w:\n",
    "    test_predict[id] = predict(test_w[id])"
   ]
  },
  {
   "cell_type": "code",
   "execution_count": 16,
   "metadata": {},
   "outputs": [],
   "source": [
    "test_ans = {}\n",
    "with open(test_ans_file, 'r') as f:\n",
    "    for line in f:\n",
    "        segs = line.strip().split(',')\n",
    "        id = segs[0]\n",
    "        label = segs[1]\n",
    "        test_ans[id] = label"
   ]
  },
  {
   "cell_type": "code",
   "execution_count": 17,
   "metadata": {},
   "outputs": [],
   "source": [
    "def count_acc(predict, ans):\n",
    "    correct = 0\n",
    "    for id in predict:\n",
    "        if predict[str(id)] == ans[str(id)]:\n",
    "            correct += 1\n",
    "    return correct / len(predict)"
   ]
  },
  {
   "cell_type": "markdown",
   "metadata": {},
   "source": [
    "### Result"
   ]
  },
  {
   "cell_type": "code",
   "execution_count": 18,
   "metadata": {},
   "outputs": [
    {
     "name": "stdout",
     "output_type": "stream",
     "text": [
      "train f1: 0.5696691609396398\n",
      "test f1: 0.49776785714285715\n"
     ]
    },
    {
     "name": "stderr",
     "output_type": "stream",
     "text": [
      "/home/b05902066/miniconda3/lib/python3.7/site-packages/sklearn/metrics/classification.py:1052: UserWarning: Note that pos_label (set to 'TIN') is ignored when average != 'binary' (got 'macro'). You may use labels=[pos_label] to specify a single positive class.\n",
      "  % (pos_label, average), UserWarning)\n"
     ]
    }
   ],
   "source": [
    "train_label_list = list(train_label.values())\n",
    "train_pre_list = list(train_predict.values())\n",
    "print('train f1:', f1_score(train_label_list,train_pre_list\n",
    "                            , labels=[pos, neg], pos_label=pos, average='macro'))\n",
    "\n",
    "test_label_list = list(test_ans.values())\n",
    "test_pre_list = list(test_predict.values())\n",
    "print('test f1:', f1_score(test_label_list,test_pre_list\n",
    "                            , labels=[pos, neg], pos_label=pos, average='macro'))"
   ]
  }
 ],
 "metadata": {
  "kernelspec": {
   "display_name": "Python 3",
   "language": "python",
   "name": "python3"
  },
  "language_info": {
   "codemirror_mode": {
    "name": "ipython",
    "version": 3
   },
   "file_extension": ".py",
   "mimetype": "text/x-python",
   "name": "python",
   "nbconvert_exporter": "python",
   "pygments_lexer": "ipython3",
   "version": "3.7.3"
  }
 },
 "nbformat": 4,
 "nbformat_minor": 2
}
