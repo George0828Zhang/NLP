{
 "cells": [
  {
   "cell_type": "markdown",
   "metadata": {},
   "source": [
    "### Basic Setting"
   ]
  },
  {
   "cell_type": "code",
   "execution_count": 1,
   "metadata": {},
   "outputs": [],
   "source": [
    "data_dir = './data/project2_data/'\n",
    "train_data = data_dir+'olid-training-v1.0.tsv'\n",
    "test_data_file = data_dir+'testset-levelc.tsv'\n",
    "test_ans_file = data_dir+'labels-levelc.csv'\n",
    "from sklearn.metrics import f1_score\n",
    "import re\n",
    "import random\n",
    "import matplotlib.pyplot as plt\n",
    "regex = re.compile('[^a-zA-Z]')\n",
    "labels = ['IND', 'GRP', 'OTH']"
   ]
  },
  {
   "cell_type": "code",
   "execution_count": 2,
   "metadata": {},
   "outputs": [],
   "source": [
    "def process_sent(sent):\n",
    "    segs = sent.split()\n",
    "    remove = [regex.sub('', i) for i in segs]\n",
    "    return remove"
   ]
  },
  {
   "cell_type": "markdown",
   "metadata": {},
   "source": [
    "### Loading training data"
   ]
  },
  {
   "cell_type": "code",
   "execution_count": 3,
   "metadata": {},
   "outputs": [],
   "source": [
    "first = True\n",
    "# label = IND|GRP|OTH\n",
    "vocab = {}\n",
    "train_w = {}\n",
    "train_label = {}\n",
    "with open(train_data, 'r') as f:\n",
    "    for line in f:\n",
    "        if first:\n",
    "            first = False\n",
    "            continue\n",
    "        segs = line.split('\\t')\n",
    "        id = segs[0]\n",
    "        sent = segs[1]\n",
    "        label = segs[4].strip()\n",
    "        if label == 'NULL': continue\n",
    "        sent = process_sent(sent)\n",
    "        for w in sent:\n",
    "\n",
    "            if w not in vocab:\n",
    "                vocab[w] = {}\n",
    "                vocab[w]['IND'] = 0\n",
    "                vocab[w]['GRP'] = 0\n",
    "                vocab[w]['OTH'] = 0\n",
    "                \n",
    "            vocab[w][label] += 1\n",
    "        train_label[str(id)] = label\n",
    "        train_w[str(id)] = sent"
   ]
  },
  {
   "cell_type": "markdown",
   "metadata": {},
   "source": [
    "### Define score and condition"
   ]
  },
  {
   "cell_type": "code",
   "execution_count": 4,
   "metadata": {},
   "outputs": [],
   "source": [
    "def count_score(sent):\n",
    "    score = {}\n",
    "    for i in labels:\n",
    "        score[i] = 0\n",
    "    for w in sent:\n",
    "        if w in vocab:\n",
    "            total = sum([vocab[w][i] for i in vocab[w]])\n",
    "            flag = True\n",
    "            for i in labels:\n",
    "                if vocab[w][i] > 0.5*total:\n",
    "                    flag = False\n",
    "            if flag:\n",
    "                continue\n",
    "            for i in labels:\n",
    "                score[i] += vocab[w][i]/total\n",
    "    for i in labels:\n",
    "        score[i]/len(sent)\n",
    "    return score"
   ]
  },
  {
   "cell_type": "code",
   "execution_count": 5,
   "metadata": {},
   "outputs": [],
   "source": [
    "record = {\n",
    "    'IND': [],\n",
    "    'GRP': [],\n",
    "    'OTH': [],\n",
    "}\n",
    "for id in train_w:\n",
    "    score = count_score(train_w[id])\n",
    "    record[train_label[id]].append(score)"
   ]
  },
  {
   "cell_type": "code",
   "execution_count": 6,
   "metadata": {},
   "outputs": [
    {
     "data": {
      "text/plain": [
       "{'IND': 4585, 'GRP': 2512, 'OTH': 828}"
      ]
     },
     "execution_count": 6,
     "metadata": {},
     "output_type": "execute_result"
    }
   ],
   "source": [
    "vocab['USER']"
   ]
  },
  {
   "cell_type": "markdown",
   "metadata": {},
   "source": [
    "### Show Score Distrubution"
   ]
  },
  {
   "cell_type": "code",
   "execution_count": 7,
   "metadata": {},
   "outputs": [
    {
     "data": {
      "image/png": "[encoded data removed]",
      "text/plain": [
       "<Figure size 648x216 with 3 Axes>"
      ]
     },
     "metadata": {
      "needs_background": "light"
     },
     "output_type": "display_data"
    },
    {
     "name": "stdout",
     "output_type": "stream",
     "text": [
      "IND\n",
      "2407\n",
      "13.491314263886599\n",
      "GRP\n",
      "2407\n",
      "4.972633181715522\n",
      "OTH\n",
      "2407\n",
      "1.6245444530268434\n"
     ]
    }
   ],
   "source": [
    "label = 'IND'\n",
    "sub_record = {\n",
    "    'IND': [],\n",
    "    'GRP': [],\n",
    "    'OTH': [],\n",
    "}\n",
    "plt.figure(figsize=(9, 3))\n",
    "for score in record[label]:\n",
    "    for t in labels:\n",
    "        sub_record[t].append(score[t])\n",
    "        \n",
    "plt.subplot(131)\n",
    "plt.hist(sub_record['IND'], bins='auto')\n",
    "plt.subplot(132)\n",
    "plt.hist(sub_record['GRP'], bins='auto')\n",
    "plt.subplot(133)\n",
    "plt.hist(sub_record['OTH'], bins='auto')\n",
    "plt.suptitle(label)\n",
    "plt.show()\n",
    "for t in labels:\n",
    "    print(t)\n",
    "    print(len(sub_record[t]))\n",
    "    print(sum(sub_record[t])/len(sub_record[t]))"
   ]
  },
  {
   "cell_type": "code",
   "execution_count": 8,
   "metadata": {},
   "outputs": [
    {
     "data": {
      "image/png": "[encoded data removed]",
      "text/plain": [
       "<Figure size 648x216 with 3 Axes>"
      ]
     },
     "metadata": {
      "needs_background": "light"
     },
     "output_type": "display_data"
    },
    {
     "name": "stdout",
     "output_type": "stream",
     "text": [
      "IND\n",
      "1074\n",
      "11.144439542261894\n",
      "GRP\n",
      "1074\n",
      "9.891757053668972\n",
      "OTH\n",
      "1074\n",
      "1.930283850996523\n"
     ]
    }
   ],
   "source": [
    "label = 'GRP'\n",
    "sub_record = {\n",
    "    'IND': [],\n",
    "    'GRP': [],\n",
    "    'OTH': [],\n",
    "}\n",
    "plt.figure(figsize=(9, 3))\n",
    "for score in record[label]:\n",
    "    for t in labels:\n",
    "        sub_record[t].append(score[t])\n",
    "        \n",
    "plt.subplot(131)\n",
    "plt.hist(sub_record['IND'], bins='auto')\n",
    "plt.subplot(132)\n",
    "plt.hist(sub_record['GRP'], bins='auto')\n",
    "plt.subplot(133)\n",
    "plt.hist(sub_record['OTH'], bins='auto')\n",
    "plt.suptitle(label)\n",
    "plt.show()\n",
    "for t in labels:\n",
    "    print(t)\n",
    "    print(len(sub_record[t]))\n",
    "    print(sum(sub_record[t])/len(sub_record[t]))"
   ]
  },
  {
   "cell_type": "code",
   "execution_count": 9,
   "metadata": {},
   "outputs": [
    {
     "data": {
      "image/png": "[encoded data removed]",
      "text/plain": [
       "<Figure size 648x216 with 3 Axes>"
      ]
     },
     "metadata": {
      "needs_background": "light"
     },
     "output_type": "display_data"
    },
    {
     "name": "stdout",
     "output_type": "stream",
     "text": [
      "IND\n",
      "395\n",
      "9.899439236545884\n",
      "GRP\n",
      "395\n",
      "5.2484173568867485\n",
      "OTH\n",
      "395\n",
      "4.495181381250906\n"
     ]
    }
   ],
   "source": [
    "label = 'OTH'\n",
    "sub_record = {\n",
    "    'IND': [],\n",
    "    'GRP': [],\n",
    "    'OTH': [],\n",
    "}\n",
    "plt.figure(figsize=(9, 3))\n",
    "for score in record[label]:\n",
    "    for t in labels:\n",
    "        sub_record[t].append(score[t])\n",
    "        \n",
    "plt.subplot(131)\n",
    "plt.hist(sub_record['IND'], bins='auto')\n",
    "plt.subplot(132)\n",
    "plt.hist(sub_record['GRP'], bins='auto')\n",
    "plt.subplot(133)\n",
    "plt.hist(sub_record['OTH'], bins='auto')\n",
    "plt.suptitle(label)\n",
    "plt.show()\n",
    "for t in labels:\n",
    "    print(t)\n",
    "    print(len(sub_record[t]))\n",
    "    print(sum(sub_record[t])/len(sub_record[t]))"
   ]
  },
  {
   "cell_type": "markdown",
   "metadata": {},
   "source": [
    "### Apply on testing data"
   ]
  },
  {
   "cell_type": "code",
   "execution_count": 10,
   "metadata": {},
   "outputs": [],
   "source": [
    "def count_acc(predict, ans):\n",
    "    correct = {\n",
    "        'IND': 0,\n",
    "        'GRP': 0,\n",
    "        'OTH': 0,\n",
    "        'ALL': 0\n",
    "    }\n",
    "    total = {\n",
    "        'IND': 0,\n",
    "        'GRP': 0,\n",
    "        'OTH': 0,\n",
    "        'ALL': 0\n",
    "    }\n",
    "    for id in predict:\n",
    "        total[ans[str(id)]] += 1\n",
    "        total['ALL'] += 1\n",
    "        if predict[str(id)] == ans[str(id)]:\n",
    "            correct[ans[str(id)]] += 1\n",
    "            correct['ALL'] += 1\n",
    "    result = [(i, correct[i]/total[i]) for i in correct]\n",
    "    \n",
    "    return result"
   ]
  },
  {
   "cell_type": "code",
   "execution_count": 11,
   "metadata": {},
   "outputs": [],
   "source": [
    "def predict(sent, thres):\n",
    "    score = count_score(sent)\n",
    "    if score['IND'] > thres['IND']:\n",
    "        return 'IND'\n",
    "    if score['GRP'] > thres['GRP']:\n",
    "        return 'GRP'\n",
    "    return 'OTH'"
   ]
  },
  {
   "cell_type": "code",
   "execution_count": 12,
   "metadata": {},
   "outputs": [],
   "source": [
    "test_w = {}\n",
    "with open(test_data_file, 'r') as f:\n",
    "    first = True\n",
    "    for line in f:\n",
    "        if first:\n",
    "            first = False\n",
    "            continue\n",
    "        segs = line.split('\\t')\n",
    "        id = segs[0]\n",
    "        sent = segs[1]\n",
    "        \n",
    "        test_w[str(id)] = process_sent(sent)"
   ]
  },
  {
   "cell_type": "code",
   "execution_count": 13,
   "metadata": {},
   "outputs": [],
   "source": [
    "test_ans = {}\n",
    "with open(test_ans_file, 'r') as f:\n",
    "    for line in f:\n",
    "        segs = line.strip().split(',')\n",
    "        id = segs[0]\n",
    "        label = segs[1]\n",
    "        test_ans[id] = label"
   ]
  },
  {
   "cell_type": "markdown",
   "metadata": {},
   "source": [
    "### Result"
   ]
  },
  {
   "cell_type": "code",
   "execution_count": 14,
   "metadata": {},
   "outputs": [
    {
     "name": "stdout",
     "output_type": "stream",
     "text": [
      "train f1: 0.3648136511741087\n",
      "test f1: 0.3617283950617283\n"
     ]
    }
   ],
   "source": [
    "train_best = ''\n",
    "test_best = ''\n",
    "\n",
    "for k in range(1, 2):\n",
    "    i = 10.29 # random.uniform(5, 15)\n",
    "    j = 1.36 # random.uniform(1, 10)\n",
    "    k = 2.41 # random.uniform(1, 10)\n",
    "    thres = {\n",
    "        'IND': i,\n",
    "        'GRP': j,\n",
    "        'OTH': k,\n",
    "    }\n",
    "\n",
    "    train_predict = {}\n",
    "    for id in train_w:\n",
    "        train_predict[id] = predict(train_w[id], thres)\n",
    "\n",
    "    test_predict = {}\n",
    "    for id in test_w:\n",
    "        test_predict[id] = predict(test_w[id], thres)\n",
    "\n",
    "\n",
    "#     train_acc = count_acc(train_predict, train_label)\n",
    "#     test_acc = count_acc(test_predict, test_ans)\n",
    "#     if not train_best or train_acc[3][1] > train_best[3][1]:\n",
    "#         train_best = train_acc\n",
    "#         print(i, j, k, 'train acc:', count_acc(train_predict, train_label))\n",
    "#         print(i, j, k, 'test acc:', count_acc(test_predict, test_ans))\n",
    "#     if not test_best or test_acc[3][1] > test_best[3][1]:\n",
    "#         test_best = test_acc\n",
    "#         print(i, j, k, 'train acc:', count_acc(train_predict, train_label))\n",
    "#         print(i, j, k, 'test acc:', count_acc(test_predict, test_ans))\n",
    "    train_label_list = list(train_label.values())\n",
    "    train_pre_list = list(train_predict.values())\n",
    "    print('train f1:', f1_score(train_label_list,train_pre_list\n",
    "                            , labels=labels, average='macro'))\n",
    "    test_label_list = list(test_ans.values())\n",
    "    test_pre_list = list(test_predict.values())\n",
    "    print('test f1:', f1_score(test_label_list,test_pre_list\n",
    "                            , labels=labels, average='macro'))"
   ]
  }
 ],
 "metadata": {
  "kernelspec": {
   "display_name": "Python 3",
   "language": "python",
   "name": "python3"
  },
  "language_info": {
   "codemirror_mode": {
    "name": "ipython",
    "version": 3
   },
   "file_extension": ".py",
   "mimetype": "text/x-python",
   "name": "python",
   "nbconvert_exporter": "python",
   "pygments_lexer": "ipython3",
   "version": "3.7.3"
  }
 },
 "nbformat": 4,
 "nbformat_minor": 2
}
