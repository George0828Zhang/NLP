{
 "cells": [
  {
   "cell_type": "markdown",
   "metadata": {},
   "source": [
    "### Setups\n",
    "- Task 0 for Task-A, 1 for Task-B, 2 for Task-C"
   ]
  },
  {
   "cell_type": "code",
   "execution_count": 1,
   "metadata": {},
   "outputs": [],
   "source": [
    "MAX_LEN = 80\n",
    "TASK = 1"
   ]
  },
  {
   "cell_type": "markdown",
   "metadata": {},
   "source": [
    "### Datapaths"
   ]
  },
  {
   "cell_type": "code",
   "execution_count": 2,
   "metadata": {},
   "outputs": [],
   "source": [
    "datadir = \"../data/\"\n",
    "trainpath = datadir+\"olid-training-v1.0.tsv\"\n",
    "testpath = datadir+\"testset-level{}.tsv\".format(\"abc\"[TASK])\n",
    "labelpath = datadir+\"labels-level{}.csv\".format(\"abc\"[TASK])"
   ]
  },
  {
   "cell_type": "markdown",
   "metadata": {},
   "source": [
    "### Prerequisites"
   ]
  },
  {
   "cell_type": "code",
   "execution_count": 3,
   "metadata": {},
   "outputs": [],
   "source": [
    "# !pip install --user wordninja\n",
    "# import nltk\n",
    "# nltk.download('averaged_perceptron_tagger')"
   ]
  },
  {
   "cell_type": "code",
   "execution_count": 4,
   "metadata": {},
   "outputs": [],
   "source": [
    "from dataset import make_data_generator\n",
    "from models import SimpleLSTM, SelfAttnLSTM, Criterion\n",
    "import torch\n",
    "import matplotlib.pyplot as plt\n",
    "plt.show()"
   ]
  },
  {
   "cell_type": "markdown",
   "metadata": {},
   "source": [
    "### Make Generator\n",
    "- creates generator for batches of training/validation data"
   ]
  },
  {
   "cell_type": "code",
   "execution_count": 5,
   "metadata": {},
   "outputs": [
    {
     "name": "stdout",
     "output_type": "stream",
     "text": [
      "[info] 4400 data.\n"
     ]
    },
    {
     "data": {
      "application/vnd.jupyter.widget-view+json": {
       "model_id": "15f623419f504677ba6efbc7f321a09f",
       "version_major": 2,
       "version_minor": 0
      },
      "text/plain": [
       "HBox(children=(IntProgress(value=0, max=4400), HTML(value='')))"
      ]
     },
     "metadata": {},
     "output_type": "display_data"
    },
    {
     "name": "stdout",
     "output_type": "stream",
     "text": [
      "\n",
      "[info] vocab size = 9536\n",
      "[info] 3961 train. 439 valid.\n"
     ]
    }
   ],
   "source": [
    "(training_set, training_gen),(validation_set, validation_gen)\\\n",
    "= make_data_generator(trainpath, task=TASK, val_split=0.1, batch_size=32, n_workers=4, max_len=MAX_LEN, shuffle=True)"
   ]
  },
  {
   "cell_type": "code",
   "execution_count": 6,
   "metadata": {},
   "outputs": [],
   "source": [
    "VOCAB = (training_set.vocab, training_set.pos_vocab)\n",
    "VOC_SIZE = len(VOCAB[0])\n",
    "POS_SIZE = len(VOCAB[1])"
   ]
  },
  {
   "cell_type": "markdown",
   "metadata": {},
   "source": [
    "### Model, Loss, Optimizer\n",
    "- create a model of SimpleLSTM or SelfAttnLSTM\n",
    "- create a criterion(focal loss & f1 calculations)\n",
    "- create an optimizer"
   ]
  },
  {
   "cell_type": "code",
   "execution_count": 7,
   "metadata": {},
   "outputs": [],
   "source": [
    "# model = SimpleLSTM(demb=100, demb_pos=128, dmodel=120, dff=150, \\\n",
    "#             voc_sz=VOC_SIZE, pos_voc_sz=POS_SIZE, max_len=MAX_LEN,\\\n",
    "#             out_class=(3 if TASK==2 else 2), dropout=0.5)\n",
    "model = SelfAttnLSTM(demb=100, demb_pos=100, dmodel=120, dff=150, \\\n",
    "            voc_sz=VOC_SIZE, pos_voc_sz=POS_SIZE, max_len=MAX_LEN,\\\n",
    "            out_class=(3 if TASK==2 else 2), dropout=0.5)\n",
    "\n",
    "model.train()\n",
    "model.cuda()\n",
    "\n",
    "criterion = Criterion(TASK, cuda=True)\n",
    "optim = torch.optim.Adam(model.parameters(), lr=1e-3, betas=(0.9, 0.98), eps=1e-9, weight_decay=1e-4)"
   ]
  },
  {
   "cell_type": "markdown",
   "metadata": {},
   "source": [
    "### Validation\n",
    "- call this function to run validation\n",
    "- returns loss, accuracy, f1"
   ]
  },
  {
   "cell_type": "code",
   "execution_count": 8,
   "metadata": {},
   "outputs": [],
   "source": [
    "def validation(model, val_gen, criterion):\n",
    "    was_training = model.training\n",
    "    model.eval()\n",
    "    with torch.no_grad():\n",
    "        first = True\n",
    "        all_logits = None\n",
    "        all_y = None\n",
    "        \n",
    "        for j, (x, pos, y) in enumerate(val_gen):\n",
    "            x = x.cuda()\n",
    "            pos = pos.cuda()\n",
    "            y = y.cuda()\n",
    "\n",
    "            logits = model.forward(x, pos)\n",
    "            \n",
    "            if first:\n",
    "                all_logits = logits\n",
    "                all_y = y\n",
    "                first = False\n",
    "            else:\n",
    "                all_logits = torch.cat((all_logits, logits), dim=0)\n",
    "                all_y = torch.cat((all_y, y), dim=0)\n",
    "            \n",
    "        loss = criterion.loss_compute(all_logits, all_y)\n",
    "        accu = criterion.accu_compute(all_logits, all_y)\n",
    "        f1 = criterion.f1_compute(all_logits, all_y)\n",
    "    if was_training:\n",
    "        model.train()\n",
    "    return loss.item(), accu, f1"
   ]
  },
  {
   "cell_type": "markdown",
   "metadata": {},
   "source": [
    "### Training \n",
    "- this part trains the model for specified epochs"
   ]
  },
  {
   "cell_type": "code",
   "execution_count": 9,
   "metadata": {},
   "outputs": [
    {
     "name": "stdout",
     "output_type": "stream",
     "text": [
      "Epoch Loss Accu ValLoss ValAccu ValF1\n",
      "0 0.22657 0.87903 0.23415 0.88155 0.46852\n"
     ]
    },
    {
     "name": "stderr",
     "output_type": "stream",
     "text": [
      "/home/george/.conda/envs/pytorch/lib/python3.6/site-packages/sklearn/metrics/classification.py:1143: UndefinedMetricWarning: F-score is ill-defined and being set to 0.0 in labels with no predicted samples.\n",
      "  'precision', 'predicted', average, warn_for)\n"
     ]
    },
    {
     "name": "stdout",
     "output_type": "stream",
     "text": [
      "1 0.21177 0.88098 0.22690 0.88155 0.46852\n",
      "2 0.19988 0.87911 0.23617 0.88155 0.46852\n",
      "3 0.18884 0.88422 0.23687 0.86105 0.52027\n",
      "4 0.18065 0.88203 0.22748 0.87472 0.51552\n",
      "5 0.17230 0.89005 0.25547 0.83371 0.52456\n",
      "6 0.16199 0.89272 0.25081 0.81777 0.49482\n",
      "7 0.13860 0.91007 0.28574 0.84510 0.54265\n",
      "8 0.12863 0.91465 0.31173 0.83599 0.50489\n",
      "9 0.11404 0.92040 0.27879 0.81777 0.51433\n"
     ]
    }
   ],
   "source": [
    "EPOCHS = 10# 10 for task A, 7 for task B\n",
    "print(\"Epoch Loss Accu ValLoss ValAccu ValF1\")\n",
    "for i,e in enumerate(range(EPOCHS)):\n",
    "    running_loss = 0\n",
    "    running_accu = 0\n",
    "    running_f1 = 0\n",
    "    running_step = 0\n",
    "    \n",
    "    for j, (x, pos, y) in enumerate(training_gen):\n",
    "        x = x.cuda()\n",
    "        pos = pos.cuda()\n",
    "        y = y.cuda()\n",
    "\n",
    "        logits = model.forward(x, pos)\n",
    "        loss = criterion.loss_compute(logits, y)\n",
    "        accu = criterion.accu_compute(logits, y)\n",
    "\n",
    "        optim.zero_grad()\n",
    "        loss.backward()\n",
    "        optim.step()        \n",
    "        \n",
    "        running_loss += loss.item()\n",
    "        running_accu += accu\n",
    "        running_step += 1        \n",
    "        print(loss.item(), end='\\r')\n",
    "        \n",
    "    vloss, vaccu, vf1 = validation(model, validation_gen, criterion)\n",
    "    print(\"{} {:.5f} {:.5f} {:.5f} {:.5f} {:.5f}\".format(i, running_loss/running_step, \\\n",
    "                                                   running_accu/running_step, vloss, vaccu, vf1))\n",
    "# torch.save(model, \"tmp.pkt\")"
   ]
  },
  {
   "cell_type": "markdown",
   "metadata": {},
   "source": [
    "### Testing\n",
    "- this part tests the model for its performance on the test set"
   ]
  },
  {
   "cell_type": "code",
   "execution_count": 10,
   "metadata": {},
   "outputs": [
    {
     "name": "stdout",
     "output_type": "stream",
     "text": [
      "[info] 240 data.\n"
     ]
    },
    {
     "data": {
      "application/vnd.jupyter.widget-view+json": {
       "model_id": "b0a394d8b1aa4b32a9cc12e935a22e35",
       "version_major": 2,
       "version_minor": 0
      },
      "text/plain": [
       "HBox(children=(IntProgress(value=0, max=240), HTML(value='')))"
      ]
     },
     "metadata": {},
     "output_type": "display_data"
    },
    {
     "name": "stdout",
     "output_type": "stream",
     "text": [
      "\n",
      "[info] vocab size = 9536\n"
     ]
    }
   ],
   "source": [
    "# model = torch.load(\"tmp.pkt\")\n",
    "testing_set, testing_gen = make_data_generator(testpath, task=TASK, testlabel=labelpath, \\\n",
    "                                               batch_size=1024, n_workers=4, load_vocabs=VOCAB,\\\n",
    "                                               max_len=MAX_LEN, shuffle=False)"
   ]
  },
  {
   "cell_type": "code",
   "execution_count": 11,
   "metadata": {},
   "outputs": [
    {
     "name": "stdout",
     "output_type": "stream",
     "text": [
      "TestLoss TestAccu TestF1\n",
      "0.18956 0.86250 0.68115\n"
     ]
    }
   ],
   "source": [
    "vloss, vaccu, vf1 = validation(model, testing_gen, criterion)\n",
    "print(\"TestLoss TestAccu TestF1\")\n",
    "print(\"{:.5f} {:.5f} {:.5f}\".format(vloss, vaccu, vf1))"
   ]
  }
 ],
 "metadata": {
  "kernelspec": {
   "display_name": "Python [conda env:pytorch]",
   "language": "python",
   "name": "conda-env-pytorch-py"
  },
  "language_info": {
   "codemirror_mode": {
    "name": "ipython",
    "version": 3
   },
   "file_extension": ".py",
   "mimetype": "text/x-python",
   "name": "python",
   "nbconvert_exporter": "python",
   "pygments_lexer": "ipython3",
   "version": "3.6.8"
  }
 },
 "nbformat": 4,
 "nbformat_minor": 2
}
