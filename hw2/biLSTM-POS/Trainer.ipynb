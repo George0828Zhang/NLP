{
 "cells": [
  {
   "cell_type": "code",
   "execution_count": 1,
   "metadata": {},
   "outputs": [],
   "source": [
    "MAX_LEN = 80\n",
    "TASK = 1"
   ]
  },
  {
   "cell_type": "code",
   "execution_count": 2,
   "metadata": {},
   "outputs": [],
   "source": [
    "datadir = \"../data/\"\n",
    "trainpath = datadir+\"olid-training-v1.0.tsv\"\n",
    "testpath = datadir+\"testset-level{}.tsv\".format(\"abc\"[TASK])\n",
    "labelpath = datadir+\"labels-level{}.csv\".format(\"abc\"[TASK])"
   ]
  },
  {
   "cell_type": "markdown",
   "metadata": {},
   "source": [
    "### Prerequisites"
   ]
  },
  {
   "cell_type": "code",
   "execution_count": 3,
   "metadata": {},
   "outputs": [],
   "source": [
    "# !pip install --user wordninja\n",
    "# import nltk\n",
    "# nltk.download('averaged_perceptron_tagger')"
   ]
  },
  {
   "cell_type": "code",
   "execution_count": 4,
   "metadata": {},
   "outputs": [],
   "source": [
    "from dataset import make_data_generator\n",
    "from models import SimpleLSTM as IsaV1, SelfAttnLSTM as IsaV2, Criterion\n",
    "import torch\n",
    "import matplotlib.pyplot as plt\n",
    "plt.show()"
   ]
  },
  {
   "cell_type": "code",
   "execution_count": 5,
   "metadata": {},
   "outputs": [
    {
     "name": "stdout",
     "output_type": "stream",
     "text": [
      "[info] 13240 data.\n"
     ]
    },
    {
     "data": {
      "application/vnd.jupyter.widget-view+json": {
       "model_id": "9d00460b946741c8885cafc1220ef4cc",
       "version_major": 2,
       "version_minor": 0
      },
      "text/plain": [
       "HBox(children=(IntProgress(value=0, max=13240), HTML(value='')))"
      ]
     },
     "metadata": {},
     "output_type": "display_data"
    },
    {
     "name": "stdout",
     "output_type": "stream",
     "text": [
      "\n",
      "[info] vocab size = 16375\n",
      "[info] 11916 train. 1324 valid.\n"
     ]
    }
   ],
   "source": [
    "(training_set, training_gen),(validation_set, validation_gen)\\\n",
    "= make_data_generator(trainpath, task=TASK, val_split=0.1, batch_size=32, n_workers=4, max_len=MAX_LEN, shuffle=True)"
   ]
  },
  {
   "cell_type": "code",
   "execution_count": 6,
   "metadata": {},
   "outputs": [],
   "source": [
    "VOCAB = (training_set.vocab, training_set.pos_vocab)\n",
    "VOC_SIZE = len(VOCAB[0])\n",
    "POS_SIZE = len(VOCAB[1])"
   ]
  },
  {
   "cell_type": "code",
   "execution_count": 7,
   "metadata": {},
   "outputs": [
    {
     "data": {
      "text/plain": [
       "SelfAttnLSTM(\n",
       "  (encoder): Sequential(\n",
       "    (0): Embedding(16375, 100)\n",
       "    (1): LSTM(100, 120, batch_first=True, bidirectional=True)\n",
       "  )\n",
       "  (pos_encoder): Sequential(\n",
       "    (0): Embedding(38, 100)\n",
       "    (1): LSTM(100, 120, batch_first=True, bidirectional=True)\n",
       "  )\n",
       "  (attention_proj): Linear(in_features=480, out_features=480, bias=True)\n",
       "  (attention_softmax): Softmax()\n",
       "  (dropout): Dropout(p=0.5)\n",
       "  (FFN): Sequential(\n",
       "    (0): Linear(in_features=480, out_features=150, bias=True)\n",
       "    (1): ReLU()\n",
       "    (2): Dropout(p=0.5)\n",
       "    (3): Linear(in_features=150, out_features=2, bias=True)\n",
       "  )\n",
       ")"
      ]
     },
     "execution_count": 7,
     "metadata": {},
     "output_type": "execute_result"
    }
   ],
   "source": [
    "# model = IsaV2(demb=100, demb_pos=128, dmodel=120, dff=150, \\\n",
    "#             voc_sz=VOC_SIZE, pos_voc_sz=POS_SIZE, max_len=MAX_LEN,\\\n",
    "#             out_class=(3 if TASK==2 else 2), dropout=0.5)\n",
    "# model = IsaV2(demb=50, demb_pos=50, dmodel=60, dff=75, \\\n",
    "#             voc_sz=VOC_SIZE, pos_voc_sz=POS_SIZE, max_len=MAX_LEN,\\\n",
    "#             out_class=(3 if TASK==2 else 2), dropout=0.5)\n",
    "model = IsaV2(demb=100, demb_pos=100, dmodel=120, dff=150, \\\n",
    "            voc_sz=VOC_SIZE, pos_voc_sz=POS_SIZE, max_len=MAX_LEN,\\\n",
    "            out_class=(3 if TASK==2 else 2), dropout=0.5)\n",
    "\n",
    "model.train()\n",
    "model.cuda()"
   ]
  },
  {
   "cell_type": "code",
   "execution_count": 8,
   "metadata": {},
   "outputs": [],
   "source": [
    "criterion = Criterion(TASK, cuda=True)\n",
    "optim = torch.optim.Adam(model.parameters(), lr=1e-3, betas=(0.9, 0.98), eps=1e-9, weight_decay=1e-4)"
   ]
  },
  {
   "cell_type": "code",
   "execution_count": 9,
   "metadata": {},
   "outputs": [],
   "source": [
    "def validation(model, val_gen, criterion):\n",
    "    model.eval()\n",
    "    with torch.no_grad():\n",
    "        first = True\n",
    "        all_logits = None\n",
    "        all_y = None\n",
    "        \n",
    "        for j, (x, pos, y) in enumerate(val_gen):\n",
    "            x = x.cuda()\n",
    "            pos = pos.cuda()\n",
    "            y = y.cuda()\n",
    "\n",
    "            logits = model.forward(x, pos)\n",
    "            \n",
    "            if first:\n",
    "                all_logits = logits\n",
    "                all_y = y\n",
    "                first = False\n",
    "            else:\n",
    "                all_logits = torch.cat((all_logits, logits), dim=0)\n",
    "                all_y = torch.cat((all_y, y), dim=0)\n",
    "            \n",
    "        loss = criterion.loss_compute(all_logits, all_y)\n",
    "        accu = criterion.accu_compute(all_logits, all_y)\n",
    "        f1 = criterion.f1_compute(all_logits, all_y)\n",
    "    model.train()\n",
    "    return loss.item(), accu, f1"
   ]
  },
  {
   "cell_type": "code",
   "execution_count": 10,
   "metadata": {},
   "outputs": [
    {
     "name": "stdout",
     "output_type": "stream",
     "text": [
      "Epoch Loss Accu ValLoss ValAccu ValF1\n",
      "0 0.36511 0.68440 0.34725 0.71601 0.55777\n",
      "1 0.33500 0.72618 0.34395 0.72054 0.57316\n",
      "2 0.32241 0.74629 0.32808 0.73338 0.61555\n",
      "3 0.31047 0.75536 0.32701 0.74773 0.65140\n",
      "4 0.29512 0.77195 0.32401 0.73792 0.67803\n",
      "5 0.28103 0.78301 0.31962 0.74622 0.69513\n",
      "6 0.26802 0.79591 0.30984 0.74622 0.69736\n"
     ]
    }
   ],
   "source": [
    "EPOCHS = 7 # 10 for task A, 7 for task B\n",
    "print(\"Epoch Loss Accu ValLoss ValAccu ValF1\")\n",
    "for i,e in enumerate(range(EPOCHS)):\n",
    "    running_loss = 0\n",
    "    running_accu = 0\n",
    "    running_f1 = 0\n",
    "    running_step = 0\n",
    "    \n",
    "    for j, (x, pos, y) in enumerate(training_gen):\n",
    "        x = x.cuda()\n",
    "        pos = pos.cuda()\n",
    "        y = y.cuda()\n",
    "\n",
    "        logits = model.forward(x, pos)\n",
    "        loss = criterion.loss_compute(logits, y)\n",
    "        accu = criterion.accu_compute(logits, y)\n",
    "\n",
    "        optim.zero_grad()\n",
    "        loss.backward()\n",
    "        optim.step()        \n",
    "        \n",
    "        running_loss += loss.item()\n",
    "        running_accu += accu\n",
    "        running_step += 1        \n",
    "        print(loss.item(), end='\\r')\n",
    "        \n",
    "    vloss, vaccu, vf1 = validation(model, validation_gen, criterion)\n",
    "    print(\"{} {:.5f} {:.5f} {:.5f} {:.5f} {:.5f}\".format(i, running_loss/running_step, \\\n",
    "                                                   running_accu/running_step, vloss, vaccu, vf1))\n",
    "torch.save(model, \"tmp.pkt\")"
   ]
  },
  {
   "cell_type": "code",
   "execution_count": 11,
   "metadata": {},
   "outputs": [
    {
     "name": "stdout",
     "output_type": "stream",
     "text": [
      "[info] 860 data.\n"
     ]
    },
    {
     "data": {
      "application/vnd.jupyter.widget-view+json": {
       "model_id": "f5ca3185dc9b4442865e722916a27992",
       "version_major": 2,
       "version_minor": 0
      },
      "text/plain": [
       "HBox(children=(IntProgress(value=0, max=860), HTML(value='')))"
      ]
     },
     "metadata": {},
     "output_type": "display_data"
    },
    {
     "name": "stdout",
     "output_type": "stream",
     "text": [
      "\n",
      "[info] vocab size = 16375\n"
     ]
    }
   ],
   "source": [
    "model = torch.load(\"tmp.pkt\")\n",
    "testing_set, testing_gen = make_data_generator(testpath, task=TASK, testlabel=labelpath, \\\n",
    "                                               batch_size=1024, n_workers=4, load_vocabs=VOCAB,\\\n",
    "                                               max_len=MAX_LEN, shuffle=False)"
   ]
  },
  {
   "cell_type": "code",
   "execution_count": 12,
   "metadata": {
    "scrolled": true
   },
   "outputs": [
    {
     "name": "stdout",
     "output_type": "stream",
     "text": [
      "Evaludation Loss: 0.2724898159503937 F1: 0.7388543823326432 Accu: 0.7953488230705261\n"
     ]
    }
   ],
   "source": [
    "running_loss = 0\n",
    "running_accu = 0\n",
    "running_f1 = 0\n",
    "running_step = 0\n",
    "with torch.no_grad(): # speeds up the evaluation\n",
    "    model.eval() # affects dropout layer\n",
    "    for j, (x, pos, y) in enumerate(testing_gen):\n",
    "        x = x.cuda()\n",
    "        pos = pos.cuda()\n",
    "        y = y.cuda()\n",
    "\n",
    "        logits = model.forward(x, pos)\n",
    "        loss = criterion.loss_compute(logits, y)\n",
    "        accu = criterion.accu_compute(logits, y)\n",
    "        f1 = criterion.f1_compute(logits, y)\n",
    "\n",
    "        running_loss += loss.item()\n",
    "        running_accu += accu\n",
    "        running_f1 += f1\n",
    "        running_step += 1\n",
    "        \n",
    "print(\"Evaludation Loss:\", running_loss/running_step, \\\n",
    "      \"F1:\", running_f1/running_step,\\\n",
    "      \"Accu:\", running_accu/running_step)"
   ]
  },
  {
   "cell_type": "code",
   "execution_count": 13,
   "metadata": {},
   "outputs": [],
   "source": [
    "# no proj Evaludation Loss: 0.25462111830711365 F1: 0.758146574424895 Accu: 0.8081395030021667\n",
    "# ya proj Evaludation Loss: 0.2653390169143677 F1: 0.7695749907788241 Accu: 0.8209302425384521"
   ]
  },
  {
   "cell_type": "code",
   "execution_count": null,
   "metadata": {},
   "outputs": [],
   "source": []
  }
 ],
 "metadata": {
  "kernelspec": {
   "display_name": "Python [conda env:pytorch]",
   "language": "python",
   "name": "conda-env-pytorch-py"
  },
  "language_info": {
   "codemirror_mode": {
    "name": "ipython",
    "version": 3
   },
   "file_extension": ".py",
   "mimetype": "text/x-python",
   "name": "python",
   "nbconvert_exporter": "python",
   "pygments_lexer": "ipython3",
   "version": "3.6.8"
  }
 },
 "nbformat": 4,
 "nbformat_minor": 2
}
