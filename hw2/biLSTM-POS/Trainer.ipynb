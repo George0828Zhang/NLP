{
 "cells": [
  {
   "cell_type": "code",
   "execution_count": 1,
   "metadata": {},
   "outputs": [],
   "source": [
    "MAX_LEN = 80\n",
    "TASK = 0"
   ]
  },
  {
   "cell_type": "code",
   "execution_count": 2,
   "metadata": {},
   "outputs": [],
   "source": [
    "datadir = \"../data/\"\n",
    "trainpath = datadir+\"olid-training-v1.0.tsv\"\n",
    "testpath = datadir+\"testset-level{}.tsv\".format(\"abc\"[TASK])\n",
    "labelpath = datadir+\"labels-level{}.csv\".format(\"abc\"[TASK])"
   ]
  },
  {
   "cell_type": "markdown",
   "metadata": {},
   "source": [
    "### Prerequisites"
   ]
  },
  {
   "cell_type": "code",
   "execution_count": 3,
   "metadata": {},
   "outputs": [],
   "source": [
    "# !pip install --user wordninja\n",
    "# import nltk\n",
    "# nltk.download('averaged_perceptron_tagger')"
   ]
  },
  {
   "cell_type": "code",
   "execution_count": 4,
   "metadata": {},
   "outputs": [],
   "source": [
    "from dataset import make_data_generator\n",
    "from models import SimpleLSTM as IsaV1, Criterion\n",
    "import torch"
   ]
  },
  {
   "cell_type": "code",
   "execution_count": 5,
   "metadata": {},
   "outputs": [
    {
     "name": "stdout",
     "output_type": "stream",
     "text": [
      "[info] 13240 data.\n"
     ]
    },
    {
     "data": {
      "application/vnd.jupyter.widget-view+json": {
       "model_id": "c195a157312b491e98c6ca820207913c",
       "version_major": 2,
       "version_minor": 0
      },
      "text/plain": [
       "HBox(children=(IntProgress(value=0, max=13240), HTML(value='')))"
      ]
     },
     "metadata": {},
     "output_type": "display_data"
    },
    {
     "name": "stdout",
     "output_type": "stream",
     "text": [
      "\n",
      "[info] vocab size = 16375\n"
     ]
    }
   ],
   "source": [
    "training_set, training_gen = make_data_generator(trainpath, task=TASK, batch_size=32, n_workers=4,\\\n",
    "                                                 max_len=MAX_LEN, shuffle=True)"
   ]
  },
  {
   "cell_type": "code",
   "execution_count": 6,
   "metadata": {},
   "outputs": [],
   "source": [
    "VOCAB = (training_set.vocab, training_set.pos_vocab)\n",
    "VOC_SIZE = len(VOCAB[0])\n",
    "POS_SIZE = len(VOCAB[1])"
   ]
  },
  {
   "cell_type": "code",
   "execution_count": 7,
   "metadata": {},
   "outputs": [
    {
     "data": {
      "text/plain": [
       "SimpleLSTM(\n",
       "  (encoder): Sequential(\n",
       "    (0): Embedding(16375, 100)\n",
       "    (1): LSTM(100, 120, batch_first=True, bidirectional=True)\n",
       "  )\n",
       "  (pos_encoder): Sequential(\n",
       "    (0): Embedding(38, 128)\n",
       "    (1): LSTM(128, 120, batch_first=True, bidirectional=True)\n",
       "  )\n",
       "  (dropout): Dropout(p=0.5)\n",
       "  (FFN): Sequential(\n",
       "    (0): Linear(in_features=480, out_features=150, bias=True)\n",
       "    (1): ReLU()\n",
       "    (2): Dropout(p=0.5)\n",
       "    (3): Linear(in_features=150, out_features=1, bias=True)\n",
       "  )\n",
       ")"
      ]
     },
     "execution_count": 7,
     "metadata": {},
     "output_type": "execute_result"
    }
   ],
   "source": [
    "model = IsaV1(demb=100, demb_pos=128, dmodel=120, dff=150, \\\n",
    "            voc_sz=VOC_SIZE, pos_voc_sz=POS_SIZE, max_len=MAX_LEN,\\\n",
    "            out_class=(3 if TASK==2 else 2), dropout=0.5)\n",
    "\n",
    "model.train()\n",
    "model.cuda()"
   ]
  },
  {
   "cell_type": "code",
   "execution_count": 8,
   "metadata": {},
   "outputs": [],
   "source": [
    "criterion = Criterion(TASK, cuda=True)\n",
    "optim = torch.optim.Adam(model.parameters(), lr=1e-3, betas=(0.9, 0.98), eps=1e-9)"
   ]
  },
  {
   "cell_type": "code",
   "execution_count": 9,
   "metadata": {},
   "outputs": [
    {
     "name": "stdout",
     "output_type": "stream",
     "text": [
      "Epoch 0 Loss: 0.6227673816220196 Accu: 0.6677989130434783\n",
      "Epoch 1 Loss: 0.5592466207662067 Accu: 0.7077294685990339\n",
      "Epoch 2 Loss: 0.4983363785029609 Accu: 0.752239331819009\n",
      "Epoch 3 Loss: 0.43852848617207024 Accu: 0.789829911529154\n",
      "Epoch 4 Loss: 0.3838907975865447 Accu: 0.8243760064892147\n",
      "Epoch 5 24475097656Loss: 0.32247588628732066 Accu: 0.8571608294035502\n",
      "Epoch 6 Loss: 0.27075939019017176 Accu: 0.8860960144927537\n",
      "Epoch 7 Loss: 0.21728058865266867 Accu: 0.9110809178743962\n",
      "Epoch 8 Loss: 0.1683290524336235 Accu: 0.9317129630109539\n",
      "Epoch 9 Loss: 0.13506353103695212 Accu: 0.9485960144927537\n",
      "Epoch 10 Loss: 0.10892084259359877 Accu: 0.9589371980676329\n",
      "Epoch 11 Loss: 0.08475253778815738 Accu: 0.9680706521739131\n",
      "Epoch 12 Loss: 0.07957287967724698 Accu: 0.9725996376811594\n",
      "Epoch 13 Loss: 0.06479138861706138 Accu: 0.9776821659095045\n",
      "Epoch 14 Loss: 0.05677299460301689 Accu: 0.9795189211909897\n",
      "Epoch 15 Loss: 0.047321782669261694 Accu: 0.9829408212560387\n",
      "Epoch 16 Loss: 0.04751925344369712 Accu: 0.9848278985507246\n",
      "Epoch 17 Loss: 0.036906408387571484 Accu: 0.9867401369239973\n",
      "Epoch 18 Loss: 0.039384556916381507 Accu: 0.9865891707404224\n",
      "Epoch 19 Loss: 0.03067048978076512 Accu: 0.9897091385822941\n"
     ]
    }
   ],
   "source": [
    "EPOCHS = 20\n",
    "\n",
    "for i,e in enumerate(range(EPOCHS)):\n",
    "    running_loss = 0\n",
    "    running_accu = 0\n",
    "    running_step = 0\n",
    "    \n",
    "    for j, (x, pos, y) in enumerate(training_gen):\n",
    "        x = x.cuda()\n",
    "        pos = pos.cuda()\n",
    "        y = y.cuda()\n",
    "\n",
    "        logits = model.forward(x, pos)\n",
    "        loss = criterion.loss_compute(logits, y)\n",
    "        accu = criterion.accu_compute(logits, y)\n",
    "\n",
    "        optim.zero_grad()\n",
    "        loss.backward()\n",
    "        optim.step()        \n",
    "        \n",
    "        running_loss += loss.item()\n",
    "        running_accu += accu.item()\n",
    "        running_step += 1        \n",
    "        print(loss.item(), end='\\r')\n",
    "        \n",
    "    print(\"Epoch\", i, \"Loss:\", running_loss/running_step, \"Accu:\", running_accu/running_step)\n",
    "torch.save(model, \"tmp.pkt\")"
   ]
  },
  {
   "cell_type": "code",
   "execution_count": 10,
   "metadata": {},
   "outputs": [
    {
     "name": "stdout",
     "output_type": "stream",
     "text": [
      "[info] 860 data.\n"
     ]
    },
    {
     "data": {
      "application/vnd.jupyter.widget-view+json": {
       "model_id": "63e1941e1e7a454c96570381d5777a53",
       "version_major": 2,
       "version_minor": 0
      },
      "text/plain": [
       "HBox(children=(IntProgress(value=0, max=860), HTML(value='')))"
      ]
     },
     "metadata": {},
     "output_type": "display_data"
    },
    {
     "name": "stdout",
     "output_type": "stream",
     "text": [
      "\n",
      "[info] vocab size = 16375\n"
     ]
    },
    {
     "data": {
      "image/png": "[encoded data removed]",
      "text/plain": [
       "<Figure size 432x288 with 1 Axes>"
      ]
     },
     "metadata": {
      "needs_background": "light"
     },
     "output_type": "display_data"
    }
   ],
   "source": [
    "model = torch.load(\"tmp.pkt\")\n",
    "testing_set, testing_gen = make_data_generator(testpath, task=TASK, testlabel=labelpath, \\\n",
    "                                               batch_size=1024, n_workers=4, load_vocabs=VOCAB,\\\n",
    "                                               max_len=MAX_LEN, shuffle=False)"
   ]
  },
  {
   "cell_type": "code",
   "execution_count": 11,
   "metadata": {},
   "outputs": [
    {
     "name": "stdout",
     "output_type": "stream",
     "text": [
      "Evaludation Loss: 2.0410616397857666 Accu: 0.7209302186965942\n"
     ]
    }
   ],
   "source": [
    "running_loss = 0\n",
    "running_accu = 0\n",
    "running_step = 0\n",
    "with torch.no_grad():\n",
    "    for j, (x, pos, y) in enumerate(testing_gen):\n",
    "        x = x.cuda()\n",
    "        pos = pos.cuda()\n",
    "        y = y.cuda()\n",
    "\n",
    "        logits = model.forward(x, pos)\n",
    "        loss = criterion.loss_compute(logits, y)\n",
    "        accu = criterion.accu_compute(logits, y)\n",
    "\n",
    "        running_loss += loss.item()\n",
    "        running_accu += accu.item()\n",
    "        running_step += 1\n",
    "        \n",
    "print(\"Evaludation Loss:\", running_loss/running_step, \"Accu:\", running_accu/running_step)"
   ]
  },
  {
   "cell_type": "code",
   "execution_count": null,
   "metadata": {},
   "outputs": [],
   "source": []
  }
 ],
 "metadata": {
  "kernelspec": {
   "display_name": "Python [conda env:pytorch]",
   "language": "python",
   "name": "conda-env-pytorch-py"
  },
  "language_info": {
   "codemirror_mode": {
    "name": "ipython",
    "version": 3
   },
   "file_extension": ".py",
   "mimetype": "text/x-python",
   "name": "python",
   "nbconvert_exporter": "python",
   "pygments_lexer": "ipython3",
   "version": "3.6.8"
  }
 },
 "nbformat": 4,
 "nbformat_minor": 2
}
