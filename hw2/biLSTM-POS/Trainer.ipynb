{
 "cells": [
  {
   "cell_type": "code",
   "execution_count": 1,
   "metadata": {},
   "outputs": [],
   "source": [
    "MAX_LEN = 80\n",
    "TASK = 0"
   ]
  },
  {
   "cell_type": "code",
   "execution_count": 2,
   "metadata": {},
   "outputs": [],
   "source": [
    "datadir = \"../data/\"\n",
    "trainpath = datadir+\"olid-training-v1.0.tsv\"\n",
    "testpath = datadir+\"testset-level{}.tsv\".format(\"abc\"[TASK])\n",
    "labelpath = datadir+\"labels-level{}.csv\".format(\"abc\"[TASK])"
   ]
  },
  {
   "cell_type": "markdown",
   "metadata": {},
   "source": [
    "### Prerequisites"
   ]
  },
  {
   "cell_type": "code",
   "execution_count": 3,
   "metadata": {},
   "outputs": [],
   "source": [
    "# !pip install --user wordninja\n",
    "# import nltk\n",
    "# nltk.download('averaged_perceptron_tagger')"
   ]
  },
  {
   "cell_type": "code",
   "execution_count": 4,
   "metadata": {},
   "outputs": [],
   "source": [
    "from dataset import make_data_generator\n",
    "from models import SimpleLSTM as IsaV1, SelfAttnLSTM as IsaV2, Criterion\n",
    "import torch\n",
    "import matplotlib.pyplot as plt\n",
    "plt.show()"
   ]
  },
  {
   "cell_type": "code",
   "execution_count": 5,
   "metadata": {},
   "outputs": [
    {
     "name": "stdout",
     "output_type": "stream",
     "text": [
      "[info] 13240 data.\n"
     ]
    },
    {
     "data": {
      "application/vnd.jupyter.widget-view+json": {
       "model_id": "a5ac2ab78b4b4420a7055f3c86425599",
       "version_major": 2,
       "version_minor": 0
      },
      "text/plain": [
       "HBox(children=(IntProgress(value=0, max=13240), HTML(value='')))"
      ]
     },
     "metadata": {},
     "output_type": "display_data"
    },
    {
     "name": "stdout",
     "output_type": "stream",
     "text": [
      "\n",
      "[info] vocab size = 16375\n",
      "[info] 11916 train. 1324 valid.\n"
     ]
    }
   ],
   "source": [
    "(training_set, training_gen),(validation_set, validation_gen)\\\n",
    "= make_data_generator(trainpath, task=TASK, val_split=0.1, batch_size=32, n_workers=4, max_len=MAX_LEN, shuffle=True)"
   ]
  },
  {
   "cell_type": "code",
   "execution_count": 6,
   "metadata": {},
   "outputs": [],
   "source": [
    "VOCAB = (training_set.vocab, training_set.pos_vocab)\n",
    "VOC_SIZE = len(VOCAB[0])\n",
    "POS_SIZE = len(VOCAB[1])"
   ]
  },
  {
   "cell_type": "code",
   "execution_count": 7,
   "metadata": {},
   "outputs": [
    {
     "data": {
      "text/plain": [
       "SelfAttnLSTM(\n",
       "  (encoder): Sequential(\n",
       "    (0): Embedding(16375, 50)\n",
       "    (1): LSTM(50, 60, batch_first=True, bidirectional=True)\n",
       "  )\n",
       "  (pos_encoder): Sequential(\n",
       "    (0): Embedding(38, 50)\n",
       "    (1): LSTM(50, 60, batch_first=True, bidirectional=True)\n",
       "  )\n",
       "  (attention_proj): Linear(in_features=240, out_features=240, bias=True)\n",
       "  (attention_softmax): Softmax()\n",
       "  (dropout): Dropout(p=0.5)\n",
       "  (FFN): Sequential(\n",
       "    (0): Linear(in_features=240, out_features=75, bias=True)\n",
       "    (1): ReLU()\n",
       "    (2): Dropout(p=0.5)\n",
       "    (3): Linear(in_features=75, out_features=2, bias=True)\n",
       "  )\n",
       ")"
      ]
     },
     "execution_count": 7,
     "metadata": {},
     "output_type": "execute_result"
    }
   ],
   "source": [
    "# model = IsaV2(demb=100, demb_pos=128, dmodel=120, dff=150, \\\n",
    "#             voc_sz=VOC_SIZE, pos_voc_sz=POS_SIZE, max_len=MAX_LEN,\\\n",
    "#             out_class=(3 if TASK==2 else 2), dropout=0.5)\n",
    "model = IsaV2(demb=50, demb_pos=50, dmodel=60, dff=75, \\\n",
    "            voc_sz=VOC_SIZE, pos_voc_sz=POS_SIZE, max_len=MAX_LEN,\\\n",
    "            out_class=(3 if TASK==2 else 2), dropout=0.5)\n",
    "\n",
    "model.train()\n",
    "model.cuda()"
   ]
  },
  {
   "cell_type": "code",
   "execution_count": 8,
   "metadata": {},
   "outputs": [],
   "source": [
    "criterion = Criterion(TASK, cuda=True)\n",
    "optim = torch.optim.Adam(model.parameters(), lr=1e-3, betas=(0.9, 0.98), eps=1e-9, weight_decay=1e-4)"
   ]
  },
  {
   "cell_type": "code",
   "execution_count": 9,
   "metadata": {},
   "outputs": [],
   "source": [
    "def validation(model, val_gen, criterion):\n",
    "    model.eval()\n",
    "    with torch.no_grad():\n",
    "        first = True\n",
    "        all_logits = None\n",
    "        all_y = None\n",
    "        \n",
    "        for j, (x, pos, y) in enumerate(val_gen):\n",
    "            x = x.cuda()\n",
    "            pos = pos.cuda()\n",
    "            y = y.cuda()\n",
    "\n",
    "            logits = model.forward(x, pos)\n",
    "            \n",
    "            if first:\n",
    "                all_logits = logits\n",
    "                all_y = y\n",
    "                first = False\n",
    "            else:\n",
    "                all_logits = torch.cat((all_logits, logits), dim=0)\n",
    "                all_y = torch.cat((all_y, y), dim=0)\n",
    "            \n",
    "        loss = criterion.loss_compute(all_logits, all_y)\n",
    "        accu = criterion.accu_compute(all_logits, all_y)\n",
    "        f1 = criterion.f1_compute(all_logits, all_y)\n",
    "    model.train()\n",
    "    return loss.item(), accu, f1"
   ]
  },
  {
   "cell_type": "code",
   "execution_count": 10,
   "metadata": {},
   "outputs": [
    {
     "name": "stdout",
     "output_type": "stream",
     "text": [
      "Epoch Loss Accu ValLoss ValAccu ValF1\n",
      "0 0.37278 0.67814 0.36109 0.70317 0.52208\n",
      "1 0.34884 0.71509 0.35252 0.72054 0.59259\n",
      "2 0.34034 0.72369 0.34892 0.71979 0.59692\n",
      "3 0.32928 0.73112 0.33757 0.73036 0.62699\n",
      "4 0.31397 0.74899 0.32460 0.73489 0.66551\n",
      "5 0.29435 0.77304 0.31953 0.74622 0.68440\n",
      "6 0.27825 0.78857 0.31227 0.74924 0.69317\n",
      "7 0.26580 0.80052 0.30968 0.75604 0.69112\n",
      "8 0.25581 0.81133 0.30731 0.75680 0.69904\n",
      "9 0.24189 0.82364 0.31122 0.75982 0.71521\n"
     ]
    }
   ],
   "source": [
    "EPOCHS = 20\n",
    "print(\"Epoch Loss Accu ValLoss ValAccu ValF1\")\n",
    "for i,e in enumerate(range(EPOCHS)):\n",
    "    running_loss = 0\n",
    "    running_accu = 0\n",
    "    running_f1 = 0\n",
    "    running_step = 0\n",
    "    \n",
    "    for j, (x, pos, y) in enumerate(training_gen):\n",
    "        x = x.cuda()\n",
    "        pos = pos.cuda()\n",
    "        y = y.cuda()\n",
    "\n",
    "        logits = model.forward(x, pos)\n",
    "        loss = criterion.loss_compute(logits, y)\n",
    "        accu = criterion.accu_compute(logits, y)\n",
    "\n",
    "        optim.zero_grad()\n",
    "        loss.backward()\n",
    "        optim.step()        \n",
    "        \n",
    "        running_loss += loss.item()\n",
    "        running_accu += accu\n",
    "        running_step += 1        \n",
    "        print(loss.item(), end='\\r')\n",
    "        \n",
    "    vloss, vaccu, vf1 = validation(model, validation_gen, criterion)\n",
    "    print(\"{} {:.5f} {:.5f} {:.5f} {:.5f} {:.5f}\".format(i, running_loss/running_step, \\\n",
    "                                                   running_accu/running_step, vloss, vaccu, vf1))\n",
    "torch.save(model, \"tmp.pkt\")"
   ]
  },
  {
   "cell_type": "code",
   "execution_count": 11,
   "metadata": {},
   "outputs": [
    {
     "name": "stdout",
     "output_type": "stream",
     "text": [
      "[info] 860 data.\n"
     ]
    },
    {
     "data": {
      "application/vnd.jupyter.widget-view+json": {
       "model_id": "c3a79dd189ad4f23940b572a295e5501",
       "version_major": 2,
       "version_minor": 0
      },
      "text/plain": [
       "HBox(children=(IntProgress(value=0, max=860), HTML(value='')))"
      ]
     },
     "metadata": {},
     "output_type": "display_data"
    },
    {
     "name": "stdout",
     "output_type": "stream",
     "text": [
      "\n",
      "[info] vocab size = 16375\n"
     ]
    }
   ],
   "source": [
    "model = torch.load(\"tmp.pkt\")\n",
    "testing_set, testing_gen = make_data_generator(testpath, task=TASK, testlabel=labelpath, \\\n",
    "                                               batch_size=1024, n_workers=4, load_vocabs=VOCAB,\\\n",
    "                                               max_len=MAX_LEN, shuffle=False)"
   ]
  },
  {
   "cell_type": "code",
   "execution_count": 12,
   "metadata": {
    "scrolled": true
   },
   "outputs": [
    {
     "name": "stdout",
     "output_type": "stream",
     "text": [
      "Evaludation Loss: 0.2653390169143677 F1: 0.7695749907788241 Accu: 0.8209302425384521\n"
     ]
    }
   ],
   "source": [
    "running_loss = 0\n",
    "running_accu = 0\n",
    "running_f1 = 0\n",
    "running_step = 0\n",
    "with torch.no_grad(): # speeds up the evaluation\n",
    "    model.eval() # affects dropout layer\n",
    "    for j, (x, pos, y) in enumerate(testing_gen):\n",
    "        x = x.cuda()\n",
    "        pos = pos.cuda()\n",
    "        y = y.cuda()\n",
    "\n",
    "        logits = model.forward(x, pos)\n",
    "        loss = criterion.loss_compute(logits, y)\n",
    "        accu = criterion.accu_compute(logits, y)\n",
    "        f1 = criterion.f1_compute(logits, y)\n",
    "\n",
    "        running_loss += loss.item()\n",
    "        running_accu += accu\n",
    "        running_f1 += f1\n",
    "        running_step += 1\n",
    "        \n",
    "print(\"Evaludation Loss:\", running_loss/running_step, \\\n",
    "      \"F1:\", running_f1/running_step,\\\n",
    "      \"Accu:\", running_accu/running_step)"
   ]
  },
  {
   "cell_type": "code",
   "execution_count": 13,
   "metadata": {},
   "outputs": [],
   "source": [
    "# no proj Evaludation Loss: 0.25462111830711365 F1: 0.758146574424895 Accu: 0.8081395030021667\n",
    "# ya proj Evaludation Loss: 0.2653390169143677 F1: 0.7695749907788241 Accu: 0.8209302425384521"
   ]
  },
  {
   "cell_type": "code",
   "execution_count": null,
   "metadata": {},
   "outputs": [],
   "source": []
  }
 ],
 "metadata": {
  "kernelspec": {
   "display_name": "Python [conda env:pytorch]",
   "language": "python",
   "name": "conda-env-pytorch-py"
  },
  "language_info": {
   "codemirror_mode": {
    "name": "ipython",
    "version": 3
   },
   "file_extension": ".py",
   "mimetype": "text/x-python",
   "name": "python",
   "nbconvert_exporter": "python",
   "pygments_lexer": "ipython3",
   "version": "3.6.8"
  }
 },
 "nbformat": 4,
 "nbformat_minor": 2
}
